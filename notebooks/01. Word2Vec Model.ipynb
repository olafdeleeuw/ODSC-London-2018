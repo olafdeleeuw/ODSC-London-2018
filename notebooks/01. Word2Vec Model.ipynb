{
 "cells": [
  {
   "cell_type": "markdown",
   "metadata": {},
   "source": [
    "## Sentiment Analysis on Twitter data using LSTM with Tensorflow and a word2vec algorithm"
   ]
  },
  {
   "cell_type": "markdown",
   "metadata": {},
   "source": [
    "### 01. Word2Vec\n",
    "In this first notebook the word vectors are loaded and introduced. The data set is explored and some easy examples are given. It is also the first introduction to Tensorflow.\n",
    "\n",
    "A Word2Vec model is a Neural Network by itself. In this project we used a predefined set of words and vectors. This is available on https://nlp.stanford.edu/projects/glove/. I downloaded the zip file and loaded the txt file with 400k words"
   ]
  },
  {
   "cell_type": "code",
   "execution_count": 76,
   "metadata": {},
   "outputs": [
    {
     "name": "stdout",
     "output_type": "stream",
     "text": [
      "3.5.4 |Anaconda custom (x86_64)| (default, Oct 27 2017, 11:48:53) \n",
      "[GCC 4.2.1 Compatible Clang 4.0.1 (tags/RELEASE_401/final)]\n"
     ]
    }
   ],
   "source": [
    "# import libraries\n",
    "import numpy as np\n",
    "import tensorflow as tf\n",
    "import matplotlib\n",
    "import pandas as pd\n",
    "import time\n",
    "\n",
    "# system info\n",
    "import sys\n",
    "print(sys.version)"
   ]
  },
  {
   "cell_type": "markdown",
   "metadata": {},
   "source": [
    "### Data\n",
    "#### Import and prepare the word and vector data"
   ]
  },
  {
   "cell_type": "code",
   "execution_count": 77,
   "metadata": {},
   "outputs": [],
   "source": [
    "with open('/Users/olafdeleeuw/Desktop/ODSC/Project/ODSC-London-2018/data/glove.6B.50d.txt') as f:\n",
    "    content = f.readlines()\n",
    "# remove whitespace characters like `\\n` at the end of each line\n",
    "content = [x.strip() for x in content]"
   ]
  },
  {
   "cell_type": "code",
   "execution_count": 85,
   "metadata": {},
   "outputs": [],
   "source": [
    "words = []\n",
    "vectors = []\n",
    "for item in content:\n",
    "    list_item = item.split(' ')\n",
    "    word = list_item[0]\n",
    "    vector = list_item[1:52]\n",
    "    words.append(word)\n",
    "    vectors.append(vector)\n",
    "\n",
    "# the first 'word' in the list must be 0\n",
    "words = ['0'] + words\n",
    "vectors = [['0'] * 50] + vectors\n",
    "# convert list of vectors to numpy array of dtype float32\n",
    "vectors = np.asarray(vectors).astype('float32')"
   ]
  },
  {
   "cell_type": "code",
   "execution_count": 97,
   "metadata": {},
   "outputs": [],
   "source": [
    "np.save(\"words\", words)\n",
    "np.save(\"vectors\", vectors)"
   ]
  },
  {
   "cell_type": "code",
   "execution_count": 86,
   "metadata": {},
   "outputs": [
    {
     "name": "stdout",
     "output_type": "stream",
     "text": [
      "['0', 'the', ',', '.', 'of', 'to', 'and', 'in', 'a', '\"', \"'s\", 'for', '-', 'that', 'on', 'is', 'was', 'said', 'with', 'he', 'as', 'it', 'by', 'at', '(', ')', 'from', 'his', \"''\", '``', 'an', 'be', 'has', 'are', 'have', 'but', 'were', 'not', 'this', 'who', 'they', 'had', 'i', 'which', 'will', 'their', ':', 'or', 'its', 'one']\n",
      "[[  0.00000000e+00   0.00000000e+00   0.00000000e+00   0.00000000e+00\n",
      "    0.00000000e+00   0.00000000e+00   0.00000000e+00   0.00000000e+00\n",
      "    0.00000000e+00   0.00000000e+00   0.00000000e+00   0.00000000e+00\n",
      "    0.00000000e+00   0.00000000e+00   0.00000000e+00   0.00000000e+00\n",
      "    0.00000000e+00   0.00000000e+00   0.00000000e+00   0.00000000e+00\n",
      "    0.00000000e+00   0.00000000e+00   0.00000000e+00   0.00000000e+00\n",
      "    0.00000000e+00   0.00000000e+00   0.00000000e+00   0.00000000e+00\n",
      "    0.00000000e+00   0.00000000e+00   0.00000000e+00   0.00000000e+00\n",
      "    0.00000000e+00   0.00000000e+00   0.00000000e+00   0.00000000e+00\n",
      "    0.00000000e+00   0.00000000e+00   0.00000000e+00   0.00000000e+00\n",
      "    0.00000000e+00   0.00000000e+00   0.00000000e+00   0.00000000e+00\n",
      "    0.00000000e+00   0.00000000e+00   0.00000000e+00   0.00000000e+00\n",
      "    0.00000000e+00   0.00000000e+00]\n",
      " [  4.18000013e-01   2.49679998e-01  -4.12420005e-01   1.21699996e-01\n",
      "    3.45270008e-01  -4.44569997e-02  -4.96879995e-01  -1.78619996e-01\n",
      "   -6.60229998e-04  -6.56599998e-01   2.78430015e-01  -1.47670001e-01\n",
      "   -5.56770027e-01   1.46579996e-01  -9.50950012e-03   1.16579998e-02\n",
      "    1.02040000e-01  -1.27920002e-01  -8.44299972e-01  -1.21809997e-01\n",
      "   -1.68009996e-02  -3.32789987e-01  -1.55200005e-01  -2.31309995e-01\n",
      "   -1.91809997e-01  -1.88230002e+00  -7.67459989e-01   9.90509987e-02\n",
      "   -4.21249986e-01  -1.95260003e-01   4.00710011e+00  -1.85939997e-01\n",
      "   -5.22870004e-01  -3.16810012e-01   5.92130003e-04   7.44489999e-03\n",
      "    1.77780002e-01  -1.58969998e-01   1.20409997e-02  -5.42230010e-02\n",
      "   -2.98709989e-01  -1.57490000e-01  -3.47579986e-01  -4.56370004e-02\n",
      "   -4.42510009e-01   1.87849998e-01   2.78489990e-03  -1.84110001e-01\n",
      "   -1.15139998e-01  -7.85809994e-01]]\n"
     ]
    }
   ],
   "source": [
    "# let's see what the data looks like\n",
    "print(words[0:50])\n",
    "print(vectors[0:2])"
   ]
  },
  {
   "cell_type": "markdown",
   "metadata": {},
   "source": [
    "#### Time for an example...What is the index of the word 'Bitcoin'? And how about its vector?"
   ]
  },
  {
   "cell_type": "code",
   "execution_count": 87,
   "metadata": {},
   "outputs": [
    {
     "name": "stdout",
     "output_type": "stream",
     "text": [
      "113658\n"
     ]
    },
    {
     "data": {
      "text/plain": [
       "array([ -4.21889991e-01,  -1.77220002e-01,   4.74950001e-02,\n",
       "         9.31389987e-01,  -1.92499995e-01,   3.30260009e-01,\n",
       "         3.46399993e-01,   1.65500000e-01,  -4.02389988e-02,\n",
       "         1.51989996e+00,   8.18899989e-01,   4.06619996e-01,\n",
       "         9.31710005e-01,   9.09690022e-01,   5.04790008e-01,\n",
       "         5.25290012e-01,  -1.89789996e-01,   2.40840003e-01,\n",
       "         9.88189995e-01,   4.50459987e-01,   1.69430006e+00,\n",
       "        -7.72909999e-01,  -1.68149993e-01,   2.61500001e-01,\n",
       "         6.53119981e-02,   9.95670021e-01,   6.19050026e-01,\n",
       "        -1.06849998e-01,   3.08539987e-01,  -9.48569998e-02,\n",
       "        -2.32089996e-01,  -5.40139973e-01,   2.01020002e-01,\n",
       "         3.00799996e-01,  -5.27949989e-01,   3.29109989e-02,\n",
       "        -1.48550004e-01,  -6.03600025e-01,  -2.75130004e-01,\n",
       "         4.72749993e-02,   1.40760001e-03,  -5.94990015e-01,\n",
       "        -9.98790026e-01,   5.39520025e-01,  -4.62949991e-01,\n",
       "        -8.96990001e-01,   3.14480007e-01,   8.33949983e-01,\n",
       "        -1.66089997e-01,  -7.80780017e-01], dtype=float32)"
      ]
     },
     "execution_count": 87,
     "metadata": {},
     "output_type": "execute_result"
    }
   ],
   "source": [
    "bitcoinIndex = words.index('bitcoin')\n",
    "print(bitcoinIndex)\n",
    "vectors[bitcoinIndex]"
   ]
  },
  {
   "cell_type": "markdown",
   "metadata": {},
   "source": [
    "### Function to convert sentences into indices\n",
    "\n",
    "In the end we are of course not only interested in words but mainly in sentences. Therefore the next function to turn sentences into indices. After that an example of three different sentences."
   ]
  },
  {
   "cell_type": "code",
   "execution_count": 88,
   "metadata": {},
   "outputs": [],
   "source": [
    "def turn_sentence_to_indices(sentence):\n",
    "    indices = np.zeros(250, dtype='int32')\n",
    "    for i in range(0,len(sentence)):\n",
    "        try:\n",
    "            indices[i] = words.index(sentence[i])\n",
    "        except:\n",
    "            indices[i] = 0\n",
    "    return(indices)"
   ]
  },
  {
   "cell_type": "code",
   "execution_count": 89,
   "metadata": {},
   "outputs": [
    {
     "name": "stdout",
     "output_type": "stream",
     "text": [
      "[   1 1734  187  844    7    8 1708    0    0    0    0    0    0    0    0\n",
      "    0    0    0    0    0    0    0    0    0    0    0    0    0    0    0\n",
      "    0    0    0    0    0    0    0    0    0    0    0    0    0    0    0\n",
      "    0    0    0    0    0    0    0    0    0    0    0    0    0    0    0\n",
      "    0    0    0    0    0    0    0    0    0    0    0    0    0    0    0\n",
      "    0    0    0    0    0    0    0    0    0    0    0    0    0    0    0\n",
      "    0    0    0    0    0    0    0    0    0    0    0    0    0    0    0\n",
      "    0    0    0    0    0    0    0    0    0    0    0    0    0    0    0\n",
      "    0    0    0    0    0    0    0    0    0    0    0    0    0    0    0\n",
      "    0    0    0    0    0    0    0    0    0    0    0    0    0    0    0\n",
      "    0    0    0    0    0    0    0    0    0    0    0    0    0    0    0\n",
      "    0    0    0    0    0    0    0    0    0    0    0    0    0    0    0\n",
      "    0    0    0    0    0    0    0    0    0    0    0    0    0    0    0\n",
      "    0    0    0    0    0    0    0    0    0    0    0    0    0    0    0\n",
      "    0    0    0    0    0    0    0    0    0    0    0    0    0    0    0\n",
      "    0    0    0    0    0    0    0    0    0    0    0    0    0    0    0\n",
      "    0    0    0    0    0    0    0    0    0    0]\n"
     ]
    }
   ],
   "source": [
    "example = np.array(['the', 'share', 'price', 'went', 'up'])\n",
    "example2 = np.array(['the', 'stock', 'market', 'was', 'rising'])\n",
    "example3 = np.array(['the', 'soccer', 'game', 'ended', 'in', 'a', 'draw'])\n",
    "# print(turn_sentence_to_indices(example))\n",
    "# print(turn_sentence_to_indices(example2))\n",
    "print(turn_sentence_to_indices(example3))"
   ]
  },
  {
   "cell_type": "markdown",
   "metadata": {},
   "source": [
    "### Function to convert indices into vectors using Tensorflow\n",
    "\n",
    "Now the indices are turned into vectors for which we use Tensorflow."
   ]
  },
  {
   "cell_type": "code",
   "execution_count": 90,
   "metadata": {},
   "outputs": [],
   "source": [
    "def indices_to_vector(indices):\n",
    "    \n",
    "    v1 = tf.get_variable(\"vectors\", [250, 50])  # define the shape of each item: 250 words represented by a 50d vector\n",
    "    \n",
    "    # Define a placeholder and assign op for each variable, so\n",
    "    # that we can feed the initial value without adding it to the graph.\n",
    "    vars = [v1]\n",
    "    placeholders = [tf.placeholder(tf.float32, shape=[250, 50]) for v in vars]\n",
    "    assign_ops = [v.assign(p) for (v, p) in zip(vars, placeholders)]\n",
    "\n",
    "    init_op = tf.global_variables_initializer()\n",
    "\n",
    "    saver = tf.train.Saver(tf.global_variables())\n",
    "    \n",
    "    with tf.Session() as sess:\n",
    "      sess.run(init_op)\n",
    "      for p, assign_op in zip(placeholders, assign_ops):\n",
    "        vector = tf.nn.embedding_lookup(vectors,indices).eval()\n",
    "        sess.run(assign_op, {p: vector})\n",
    "        print(vector)\n",
    "      # Save the variables to disk.\n",
    "      save_path = saver.save(sess, \"/tmp/trainmodel.ckpt\")\n",
    "      print(\"Vectors saved in file: %s\" % save_path)"
   ]
  },
  {
   "cell_type": "markdown",
   "metadata": {},
   "source": [
    "#### Let's check out the vector of the first example"
   ]
  },
  {
   "cell_type": "code",
   "execution_count": 91,
   "metadata": {},
   "outputs": [
    {
     "name": "stdout",
     "output_type": "stream",
     "text": [
      "[[ 0.41800001  0.24968    -0.41242    ..., -0.18411    -0.11514    -0.78580999]\n",
      " [ 0.39412001  0.23183     0.68751001 ...,  0.57809001  0.25825    -0.1166    ]\n",
      " [-0.44953999  0.11784     0.65070999 ...,  0.45262     0.40169001\n",
      "   0.67246997]\n",
      " ..., \n",
      " [ 0.          0.          0.         ...,  0.          0.          0.        ]\n",
      " [ 0.          0.          0.         ...,  0.          0.          0.        ]\n",
      " [ 0.          0.          0.         ...,  0.          0.          0.        ]]\n",
      "Vectors saved in file: /tmp/trainmodel.ckpt\n"
     ]
    }
   ],
   "source": [
    "indices_to_vector(turn_sentence_to_indices(example))"
   ]
  },
  {
   "cell_type": "markdown",
   "metadata": {},
   "source": [
    "#### How to restore the data...\n",
    "\n",
    "Now the vectors are saved but you may want to restore them at some time."
   ]
  },
  {
   "cell_type": "code",
   "execution_count": 92,
   "metadata": {},
   "outputs": [
    {
     "name": "stdout",
     "output_type": "stream",
     "text": [
      "INFO:tensorflow:Restoring parameters from /tmp/trainmodel.ckpt\n",
      "Model restored.\n"
     ]
    }
   ],
   "source": [
    "tf.reset_default_graph()\n",
    "\n",
    "# Create some variables.\n",
    "v1 = tf.get_variable(\"vectors\", shape=[250, 50])\n",
    "\n",
    "# Add ops to save and restore all the variables.\n",
    "saver = tf.train.Saver()\n",
    "\n",
    "# Later, launch the model, use the saver to restore variables from disk, and\n",
    "# do some work with the model.\n",
    "with tf.Session() as sess:\n",
    "  # Restore variables from disk.\n",
    "  saver.restore(sess, \"/tmp/trainmodel.ckpt\")\n",
    "  print(\"Model restored.\")\n",
    "  # Check the values of the variables\n",
    "  # print(\"v1 : %s\" % v1.eval())\n",
    "  word_vectors = v1.eval()"
   ]
  },
  {
   "cell_type": "code",
   "execution_count": 93,
   "metadata": {},
   "outputs": [
    {
     "data": {
      "text/plain": [
       "array([[ 0.41800001,  0.24968   , -0.41242   , ..., -0.18411   ,\n",
       "        -0.11514   , -0.78580999],\n",
       "       [ 0.39412001,  0.23183   ,  0.68751001, ...,  0.57809001,\n",
       "         0.25825   , -0.1166    ],\n",
       "       [-0.44953999,  0.11784   ,  0.65070999, ...,  0.45262   ,\n",
       "         0.40169001,  0.67246997],\n",
       "       ..., \n",
       "       [ 0.        ,  0.        ,  0.        , ...,  0.        ,\n",
       "         0.        ,  0.        ],\n",
       "       [ 0.        ,  0.        ,  0.        , ...,  0.        ,\n",
       "         0.        ,  0.        ],\n",
       "       [ 0.        ,  0.        ,  0.        , ...,  0.        ,\n",
       "         0.        ,  0.        ]], dtype=float32)"
      ]
     },
     "execution_count": 93,
     "metadata": {},
     "output_type": "execute_result"
    }
   ],
   "source": [
    "word_vectors"
   ]
  }
 ],
 "metadata": {
  "kernelspec": {
   "display_name": "Python 3",
   "language": "python",
   "name": "python3"
  },
  "language_info": {
   "codemirror_mode": {
    "name": "ipython",
    "version": 3
   },
   "file_extension": ".py",
   "mimetype": "text/x-python",
   "name": "python",
   "nbconvert_exporter": "python",
   "pygments_lexer": "ipython3",
   "version": "3.5.4"
  }
 },
 "nbformat": 4,
 "nbformat_minor": 2
}
