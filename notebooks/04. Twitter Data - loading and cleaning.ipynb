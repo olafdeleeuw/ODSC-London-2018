{
 "cells": [
  {
   "cell_type": "markdown",
   "metadata": {},
   "source": [
    "### Loading the Twitter Data\n",
    "The Twitter data is collected via a Java/Spring Boot application and stored in ElasticSearch. Python has a nice package to load the data from ElasticSearch."
   ]
  },
  {
   "cell_type": "markdown",
   "metadata": {},
   "source": [
    "#### First import the elasticsearch module and make a connection to localhost:9200"
   ]
  },
  {
   "cell_type": "code",
   "execution_count": 17,
   "metadata": {},
   "outputs": [],
   "source": [
    "from elasticsearch import Elasticsearch\n",
    "\n",
    "es = Elasticsearch(['http://localhost:9200/'])"
   ]
  },
  {
   "cell_type": "code",
   "execution_count": 18,
   "metadata": {},
   "outputs": [
    {
     "data": {
      "text/plain": [
       "<Elasticsearch([{'port': 9200, 'host': 'localhost'}])>"
      ]
     },
     "execution_count": 18,
     "metadata": {},
     "output_type": "execute_result"
    }
   ],
   "source": [
    "es"
   ]
  },
  {
   "cell_type": "markdown",
   "metadata": {},
   "source": [
    "#### elasticsearch.get()\n",
    "with the elasticsearch.get() function you can extract your data by specifying the index, the doc_type and the id. Let's look at an example ID."
   ]
  },
  {
   "cell_type": "code",
   "execution_count": 19,
   "metadata": {},
   "outputs": [],
   "source": [
    "tweet = es.get(index=\"twitter\", doc_type='tweet', id='rCXMCWEBibQav3Bh316K')"
   ]
  },
  {
   "cell_type": "code",
   "execution_count": 20,
   "metadata": {},
   "outputs": [
    {
     "data": {
      "text/plain": [
       "{'_id': 'rCXMCWEBibQav3Bh316K',\n",
       " '_index': 'twitter',\n",
       " '_source': {'postDate': '2018-01-18T15:04:37.002Z',\n",
       "  'tweet': '{\"created_at\":\"Thu Jan 18 15:04:36 +0000 2018\",\"id\":954006615258152960,\"id_str\":\"954006615258152960\",\"text\":\"RT @LucydLtd: Tomorrow, on January 17th Lucyd will be presenting at TNABC. We look forward to connecting with cryptocurrency leaders, and d\\\\u2026\",\"source\":\"\\\\u003ca href=\\\\\"http:\\\\/\\\\/twitter.com\\\\\" rel=\\\\\"nofollow\\\\\"\\\\u003eTwitter Web Client\\\\u003c\\\\/a\\\\u003e\",\"truncated\":false,\"in_reply_to_status_id\":null,\"in_reply_to_status_id_str\":null,\"in_reply_to_user_id\":null,\"in_reply_to_user_id_str\":null,\"in_reply_to_screen_name\":null,\"user\":{\"id\":140654787,\"id_str\":\"140654787\",\"name\":\"Daniel S Wijaya\",\"screen_name\":\"DSWijaya\",\"location\":\"Bogor, Indonesia\",\"url\":null,\"description\":\"#Bitcoin #CryptoCurrency #BitcoinTalk #Bounty #Followback #Blockchain #ManchesterUnited\",\"translator_type\":\"none\",\"protected\":false,\"verified\":false,\"followers_count\":4292,\"friends_count\":4440,\"listed_count\":27,\"favourites_count\":9378,\"statuses_count\":8566,\"created_at\":\"Thu May 06 02:33:49 +0000 2010\",\"utc_offset\":25200,\"time_zone\":\"Jakarta\",\"geo_enabled\":false,\"lang\":\"en\",\"contributors_enabled\":false,\"is_translator\":false,\"profile_background_color\":\"59BEE4\",\"profile_background_image_url\":\"http:\\\\/\\\\/pbs.twimg.com\\\\/profile_background_images\\\\/726151856\\\\/7b1cad0896d22d75b85f5f86fc69b59f.jpeg\",\"profile_background_image_url_https\":\"https:\\\\/\\\\/pbs.twimg.com\\\\/profile_background_images\\\\/726151856\\\\/7b1cad0896d22d75b85f5f86fc69b59f.jpeg\",\"profile_background_tile\":false,\"profile_link_color\":\"8FCAE0\",\"profile_sidebar_border_color\":\"4BB7DF\",\"profile_sidebar_fill_color\":\"191F22\",\"profile_text_color\":\"4BB7DF\",\"profile_use_background_image\":true,\"profile_image_url\":\"http:\\\\/\\\\/pbs.twimg.com\\\\/profile_images\\\\/1212014792\\\\/241990072_normal.jpg\",\"profile_image_url_https\":\"https:\\\\/\\\\/pbs.twimg.com\\\\/profile_images\\\\/1212014792\\\\/241990072_normal.jpg\",\"default_profile\":false,\"default_profile_image\":false,\"following\":null,\"follow_request_sent\":null,\"notifications\":null},\"geo\":null,\"coordinates\":null,\"place\":null,\"contributors\":null,\"retweeted_status\":{\"created_at\":\"Wed Jan 17 17:45:59 +0000 2018\",\"id\":953684839630286848,\"id_str\":\"953684839630286848\",\"text\":\"Tomorrow, on January 17th Lucyd will be presenting at TNABC. We look forward to connecting with cryptocurrency lead\\\\u2026 https:\\\\/\\\\/t.co\\\\/dTUWfIQBc4\",\"display_text_range\":[0,140],\"source\":\"\\\\u003ca href=\\\\\"http:\\\\/\\\\/twitter.com\\\\/download\\\\/iphone\\\\\" rel=\\\\\"nofollow\\\\\"\\\\u003eTwitter for iPhone\\\\u003c\\\\/a\\\\u003e\",\"truncated\":true,\"in_reply_to_status_id\":null,\"in_reply_to_status_id_str\":null,\"in_reply_to_user_id\":null,\"in_reply_to_user_id_str\":null,\"in_reply_to_screen_name\":null,\"user\":{\"id\":3300932060,\"id_str\":\"3300932060\",\"name\":\"Lucyd\",\"screen_name\":\"LucydLtd\",\"location\":\"Singapore\",\"url\":\"https:\\\\/\\\\/lucyd.co\",\"description\":\"Welcome to Lucyd! Introducing the next-gen AR smartglasses. Join the LCD token sale today to help us build the glasses of the future & reserve your pair!\",\"translator_type\":\"none\",\"protected\":false,\"verified\":false,\"followers_count\":58995,\"friends_count\":2038,\"listed_count\":43,\"favourites_count\":694,\"statuses_count\":757,\"created_at\":\"Wed Jul 29 22:46:34 +0000 2015\",\"utc_offset\":-21600,\"time_zone\":\"Central Time (US & Canada)\",\"geo_enabled\":false,\"lang\":\"en\",\"contributors_enabled\":false,\"is_translator\":false,\"profile_background_color\":\"3B94D9\",\"profile_background_image_url\":\"http:\\\\/\\\\/pbs.twimg.com\\\\/profile_background_images\\\\/626528868816388096\\\\/VVyspd00.png\",\"profile_background_image_url_https\":\"https:\\\\/\\\\/pbs.twimg.com\\\\/profile_background_images\\\\/626528868816388096\\\\/VVyspd00.png\",\"profile_background_tile\":true,\"profile_link_color\":\"3B94D9\",\"profile_sidebar_border_color\":\"000000\",\"profile_sidebar_fill_color\":\"000000\",\"profile_text_color\":\"000000\",\"profile_use_background_image\":false,\"profile_image_url\":\"http:\\\\/\\\\/pbs.twimg.com\\\\/profile_images\\\\/948316392440434689\\\\/gSxeqL-U_normal.jpg\",\"profile_image_url_https\":\"https:\\\\/\\\\/pbs.twimg.com\\\\/profile_images\\\\/948316392440434689\\\\/gSxeqL-U_normal.jpg\",\"profile_banner_url\":\"https:\\\\/\\\\/pbs.twimg.com\\\\/profile_banners\\\\/3300932060\\\\/1514580092\",\"default_profile\":false,\"default_profile_image\":false,\"following\":null,\"follow_request_sent\":null,\"notifications\":null},\"geo\":null,\"coordinates\":null,\"place\":null,\"contributors\":null,\"is_quote_status\":false,\"extended_tweet\":{\"full_text\":\"Tomorrow, on January 17th Lucyd will be presenting at TNABC. We look forward to connecting with cryptocurrency leaders, and discussing the industry &amp; its trends. #bitcoin $BTC #Ethereum #Miami #conference #BlockChain #Cryptocurrency #crypto #ICO #AR #AugmentedReality #VR https:\\\\/\\\\/t.co\\\\/os97z6c6VI\",\"display_text_range\":[0,275],\"entities\":{\"hashtags\":[{\"text\":\"bitcoin\",\"indices\":[166,174]},{\"text\":\"Ethereum\",\"indices\":[180,189]},{\"text\":\"Miami\",\"indices\":[190,196]},{\"text\":\"conference\",\"indices\":[197,208]},{\"text\":\"BlockChain\",\"indices\":[209,220]},{\"text\":\"Cryptocurrency\",\"indices\":[221,236]},{\"text\":\"crypto\",\"indices\":[237,244]},{\"text\":\"ICO\",\"indices\":[245,249]},{\"text\":\"AR\",\"indices\":[250,253]},{\"text\":\"AugmentedReality\",\"indices\":[254,271]},{\"text\":\"VR\",\"indices\":[272,275]}],\"urls\":[],\"user_mentions\":[],\"symbols\":[{\"text\":\"BTC\",\"indices\":[175,179]}],\"media\":[{\"id\":953684831560495104,\"id_str\":\"953684831560495104\",\"indices\":[276,299],\"media_url\":\"http:\\\\/\\\\/pbs.twimg.com\\\\/media\\\\/DTwrTSzXcAAYyDT.jpg\",\"media_url_https\":\"https:\\\\/\\\\/pbs.twimg.com\\\\/media\\\\/DTwrTSzXcAAYyDT.jpg\",\"url\":\"https:\\\\/\\\\/t.co\\\\/os97z6c6VI\",\"display_url\":\"pic.twitter.com\\\\/os97z6c6VI\",\"expanded_url\":\"https:\\\\/\\\\/twitter.com\\\\/LucydLtd\\\\/status\\\\/953684839630286848\\\\/photo\\\\/1\",\"type\":\"photo\",\"sizes\":{\"thumb\":{\"w\":150,\"h\":150,\"resize\":\"crop\"},\"large\":{\"w\":750,\"h\":888,\"resize\":\"fit\"},\"medium\":{\"w\":750,\"h\":888,\"resize\":\"fit\"},\"small\":{\"w\":574,\"h\":680,\"resize\":\"fit\"}}}]},\"extended_entities\":{\"media\":[{\"id\":953684831560495104,\"id_str\":\"953684831560495104\",\"indices\":[276,299],\"media_url\":\"http:\\\\/\\\\/pbs.twimg.com\\\\/media\\\\/DTwrTSzXcAAYyDT.jpg\",\"media_url_https\":\"https:\\\\/\\\\/pbs.twimg.com\\\\/media\\\\/DTwrTSzXcAAYyDT.jpg\",\"url\":\"https:\\\\/\\\\/t.co\\\\/os97z6c6VI\",\"display_url\":\"pic.twitter.com\\\\/os97z6c6VI\",\"expanded_url\":\"https:\\\\/\\\\/twitter.com\\\\/LucydLtd\\\\/status\\\\/953684839630286848\\\\/photo\\\\/1\",\"type\":\"photo\",\"sizes\":{\"thumb\":{\"w\":150,\"h\":150,\"resize\":\"crop\"},\"large\":{\"w\":750,\"h\":888,\"resize\":\"fit\"},\"medium\":{\"w\":750,\"h\":888,\"resize\":\"fit\"},\"small\":{\"w\":574,\"h\":680,\"resize\":\"fit\"}}}]}},\"quote_count\":3,\"reply_count\":2,\"retweet_count\":259,\"favorite_count\":159,\"entities\":{\"hashtags\":[],\"urls\":[{\"url\":\"https:\\\\/\\\\/t.co\\\\/dTUWfIQBc4\",\"expanded_url\":\"https:\\\\/\\\\/twitter.com\\\\/i\\\\/web\\\\/status\\\\/953684839630286848\",\"display_url\":\"twitter.com\\\\/i\\\\/web\\\\/status\\\\/9\\\\u2026\",\"indices\":[117,140]}],\"user_mentions\":[],\"symbols\":[]},\"favorited\":false,\"retweeted\":false,\"possibly_sensitive\":false,\"filter_level\":\"low\",\"lang\":\"en\"},\"is_quote_status\":false,\"quote_count\":0,\"reply_count\":0,\"retweet_count\":0,\"favorite_count\":0,\"entities\":{\"hashtags\":[],\"urls\":[],\"user_mentions\":[{\"screen_name\":\"LucydLtd\",\"name\":\"Lucyd\",\"id\":3300932060,\"id_str\":\"3300932060\",\"indices\":[3,12]}],\"symbols\":[]},\"favorited\":false,\"retweeted\":false,\"filter_level\":\"low\",\"lang\":\"en\",\"timestamp_ms\":\"1516287876320\"}\\r\\n',\n",
       "  'twitter_id': 954006615258152960},\n",
       " '_type': 'tweet',\n",
       " '_version': 1,\n",
       " 'found': True}"
      ]
     },
     "execution_count": 20,
     "metadata": {},
     "output_type": "execute_result"
    }
   ],
   "source": [
    "tweet"
   ]
  },
  {
   "cell_type": "markdown",
   "metadata": {},
   "source": [
    "##### That's just the information of 1 collected tweet...\n",
    "\n",
    "#### Load all twitter data"
   ]
  },
  {
   "cell_type": "code",
   "execution_count": 21,
   "metadata": {},
   "outputs": [
    {
     "name": "stdout",
     "output_type": "stream",
     "text": [
      "The total number of collected tweets is: 1006009\n"
     ]
    }
   ],
   "source": [
    "tweets_all = es.search(index=\"twitter\", body={\"query\": {\"match_all\": {}}, \"from\": 0, \"size\": 1000})\n",
    "\n",
    "print(\"The total number of collected tweets is:\", tweets_all['hits']['total'])"
   ]
  },
  {
   "cell_type": "markdown",
   "metadata": {},
   "source": [
    "Create a list with dictionaries for all tweets"
   ]
  },
  {
   "cell_type": "code",
   "execution_count": 22,
   "metadata": {},
   "outputs": [],
   "source": [
    "# Dictionary with the tweets\n",
    "tweet_list = tweets_all['hits']['hits']"
   ]
  },
  {
   "cell_type": "code",
   "execution_count": 23,
   "metadata": {},
   "outputs": [
    {
     "data": {
      "text/plain": [
       "[{'_id': 'YDY1HWEB9Wu5eUiggX2t',\n",
       "  '_index': 'twitter',\n",
       "  '_score': 1.0,\n",
       "  '_source': {'postDate': '2018-01-22T09:31:41.357Z',\n",
       "   'tweet': '{\"created_at\":\"Mon Jan 22 09:31:40 +0000 2018\",\"id\":955372382843228162,\"id_str\":\"955372382843228162\",\"text\":\"Cryptocurrency Exchange OKCoin To Launch In South Korea #ethereum #crypto #btc https:\\\\/\\\\/t.co\\\\/Fk9vMoMp1f\",\"source\":\"\\\\u003ca href=\\\\\"https:\\\\/\\\\/coinspectator.com\\\\/\\\\\" rel=\\\\\"nofollow\\\\\"\\\\u003eCoin Spectator\\\\u003c\\\\/a\\\\u003e\",\"truncated\":false,\"in_reply_to_status_id\":null,\"in_reply_to_status_id_str\":null,\"in_reply_to_user_id\":null,\"in_reply_to_user_id_str\":null,\"in_reply_to_screen_name\":null,\"user\":{\"id\":2276587183,\"id_str\":\"2276587183\",\"name\":\"Coin Spectator\",\"screen_name\":\"coinspectator\",\"location\":\"United Kingdom\",\"url\":\"https:\\\\/\\\\/coinspectator.com\",\"description\":\"Real-time tool for monitoring the latest cryptocurrency news and analysis from a wide range of trusted sources.\",\"translator_type\":\"none\",\"protected\":false,\"verified\":false,\"followers_count\":7186,\"friends_count\":1196,\"listed_count\":84,\"favourites_count\":1305,\"statuses_count\":87029,\"created_at\":\"Sat Jan 04 19:53:27 +0000 2014\",\"utc_offset\":-28800,\"time_zone\":\"Pacific Time (US & Canada)\",\"geo_enabled\":false,\"lang\":\"en\",\"contributors_enabled\":false,\"is_translator\":false,\"profile_background_color\":\"000000\",\"profile_background_image_url\":\"http:\\\\/\\\\/abs.twimg.com\\\\/images\\\\/themes\\\\/theme1\\\\/bg.png\",\"profile_background_image_url_https\":\"https:\\\\/\\\\/abs.twimg.com\\\\/images\\\\/themes\\\\/theme1\\\\/bg.png\",\"profile_background_tile\":false,\"profile_link_color\":\"676057\",\"profile_sidebar_border_color\":\"000000\",\"profile_sidebar_fill_color\":\"000000\",\"profile_text_color\":\"000000\",\"profile_use_background_image\":false,\"profile_image_url\":\"http:\\\\/\\\\/pbs.twimg.com\\\\/profile_images\\\\/887650167633170432\\\\/ub9daLZ6_normal.jpg\",\"profile_image_url_https\":\"https:\\\\/\\\\/pbs.twimg.com\\\\/profile_images\\\\/887650167633170432\\\\/ub9daLZ6_normal.jpg\",\"default_profile\":false,\"default_profile_image\":false,\"following\":null,\"follow_request_sent\":null,\"notifications\":null},\"geo\":null,\"coordinates\":null,\"place\":null,\"contributors\":null,\"is_quote_status\":false,\"quote_count\":0,\"reply_count\":0,\"retweet_count\":0,\"favorite_count\":0,\"entities\":{\"hashtags\":[{\"text\":\"ethereum\",\"indices\":[56,65]},{\"text\":\"crypto\",\"indices\":[66,73]},{\"text\":\"btc\",\"indices\":[74,78]}],\"urls\":[{\"url\":\"https:\\\\/\\\\/t.co\\\\/Fk9vMoMp1f\",\"expanded_url\":\"https:\\\\/\\\\/coinspectator.com\\\\/news\\\\/239480\\\\/cryptocurrency-exchange-okcoin-to-launch-in-south-korea\",\"display_url\":\"coinspectator.com\\\\/news\\\\/239480\\\\/cr\\\\u2026\",\"indices\":[79,102]}],\"user_mentions\":[],\"symbols\":[]},\"favorited\":false,\"retweeted\":false,\"possibly_sensitive\":false,\"filter_level\":\"low\",\"lang\":\"en\",\"timestamp_ms\":\"1516613500687\"}\\r\\n',\n",
       "   'twitter_id': 955372382843228162},\n",
       "  '_type': 'tweet'},\n",
       " {'_id': 'YzY1HWEB9Wu5eUiggX2z',\n",
       "  '_index': 'twitter',\n",
       "  '_score': 1.0,\n",
       "  '_source': {'postDate': '2018-01-22T09:31:41.363Z',\n",
       "   'tweet': '{\"created_at\":\"Mon Jan 22 09:31:40 +0000 2018\",\"id\":955372383799410688,\"id_str\":\"955372383799410688\",\"text\":\"RT @timothychou: Can an Algorithm Tell When Kids Are in Danger? https:\\\\/\\\\/t.co\\\\/ugTVCVfTF1 #DataScience #DataScientist #BigData #IoT #Internet\\\\u2026\",\"source\":\"\\\\u003ca href=\\\\\"http:\\\\/\\\\/twitter.com\\\\\" rel=\\\\\"nofollow\\\\\"\\\\u003eTwitter Web Client\\\\u003c\\\\/a\\\\u003e\",\"truncated\":false,\"in_reply_to_status_id\":null,\"in_reply_to_status_id_str\":null,\"in_reply_to_user_id\":null,\"in_reply_to_user_id_str\":null,\"in_reply_to_screen_name\":null,\"user\":{\"id\":3226844802,\"id_str\":\"3226844802\",\"name\":\"Jason Childers\",\"screen_name\":\"JasonHoolahoops\",\"location\":\"United States\",\"url\":null,\"description\":\"Author, Fisherman, Sock Hater, Professional Troublemaker, Scapegoat. I own 25 hoolahoops.\",\"translator_type\":\"none\",\"protected\":false,\"verified\":false,\"followers_count\":1385,\"friends_count\":2909,\"listed_count\":1124,\"favourites_count\":21989,\"statuses_count\":85309,\"created_at\":\"Tue May 26 07:34:05 +0000 2015\",\"utc_offset\":-28800,\"time_zone\":\"Pacific Time (US & Canada)\",\"geo_enabled\":false,\"lang\":\"en-gb\",\"contributors_enabled\":false,\"is_translator\":false,\"profile_background_color\":\"C0DEED\",\"profile_background_image_url\":\"http:\\\\/\\\\/abs.twimg.com\\\\/images\\\\/themes\\\\/theme1\\\\/bg.png\",\"profile_background_image_url_https\":\"https:\\\\/\\\\/abs.twimg.com\\\\/images\\\\/themes\\\\/theme1\\\\/bg.png\",\"profile_background_tile\":false,\"profile_link_color\":\"1DA1F2\",\"profile_sidebar_border_color\":\"C0DEED\",\"profile_sidebar_fill_color\":\"DDEEF6\",\"profile_text_color\":\"333333\",\"profile_use_background_image\":true,\"profile_image_url\":\"http:\\\\/\\\\/pbs.twimg.com\\\\/profile_images\\\\/776439123972272128\\\\/P95UyRwA_normal.jpg\",\"profile_image_url_https\":\"https:\\\\/\\\\/pbs.twimg.com\\\\/profile_images\\\\/776439123972272128\\\\/P95UyRwA_normal.jpg\",\"profile_banner_url\":\"https:\\\\/\\\\/pbs.twimg.com\\\\/profile_banners\\\\/3226844802\\\\/1473952407\",\"default_profile\":true,\"default_profile_image\":false,\"following\":null,\"follow_request_sent\":null,\"notifications\":null},\"geo\":null,\"coordinates\":null,\"place\":null,\"contributors\":null,\"retweeted_status\":{\"created_at\":\"Mon Jan 22 09:00:01 +0000 2018\",\"id\":955364415368499200,\"id_str\":\"955364415368499200\",\"text\":\"Can an Algorithm Tell When Kids Are in Danger? https:\\\\/\\\\/t.co\\\\/ugTVCVfTF1 #DataScience #DataScientist #BigData #IoT\\\\u2026 https:\\\\/\\\\/t.co\\\\/fo3y5NPJkw\",\"source\":\"\\\\u003ca href=\\\\\"http:\\\\/\\\\/bufferapp.com\\\\\" rel=\\\\\"nofollow\\\\\"\\\\u003eBuffer\\\\u003c\\\\/a\\\\u003e\",\"truncated\":true,\"in_reply_to_status_id\":null,\"in_reply_to_status_id_str\":null,\"in_reply_to_user_id\":null,\"in_reply_to_user_id_str\":null,\"in_reply_to_screen_name\":null,\"user\":{\"id\":17116202,\"id_str\":\"17116202\",\"name\":\"Timothy Chou\",\"screen_name\":\"timothychou\",\"location\":null,\"url\":\"https:\\\\/\\\\/www.linkedin.com\\\\/in\\\\/timothychou\",\"description\":\"Teacher, Student, Board Member, Investor, Author Precision #IoT available at http:\\\\/\\\\/amzn.to\\\\/293rrC9 and #IoTClass http:\\\\/\\\\/PrecisionClass.com\",\"translator_type\":\"none\",\"protected\":false,\"verified\":false,\"followers_count\":10889,\"friends_count\":9944,\"listed_count\":156,\"favourites_count\":2407,\"statuses_count\":1400,\"created_at\":\"Sun Nov 02 16:25:47 +0000 2008\",\"utc_offset\":-28800,\"time_zone\":\"Pacific Time (US & Canada)\",\"geo_enabled\":true,\"lang\":\"en\",\"contributors_enabled\":false,\"is_translator\":false,\"profile_background_color\":\"C0DEED\",\"profile_background_image_url\":\"http:\\\\/\\\\/abs.twimg.com\\\\/images\\\\/themes\\\\/theme1\\\\/bg.png\",\"profile_background_image_url_https\":\"https:\\\\/\\\\/abs.twimg.com\\\\/images\\\\/themes\\\\/theme1\\\\/bg.png\",\"profile_background_tile\":false,\"profile_link_color\":\"1DA1F2\",\"profile_sidebar_border_color\":\"C0DEED\",\"profile_sidebar_fill_color\":\"DDEEF6\",\"profile_text_color\":\"333333\",\"profile_use_background_image\":true,\"profile_image_url\":\"http:\\\\/\\\\/pbs.twimg.com\\\\/profile_images\\\\/571061481228091392\\\\/FvY7yx9e_normal.jpeg\",\"profile_image_url_https\":\"https:\\\\/\\\\/pbs.twimg.com\\\\/profile_images\\\\/571061481228091392\\\\/FvY7yx9e_normal.jpeg\",\"profile_banner_url\":\"https:\\\\/\\\\/pbs.twimg.com\\\\/profile_banners\\\\/17116202\\\\/1404323588\",\"default_profile\":true,\"default_profile_image\":false,\"following\":null,\"follow_request_sent\":null,\"notifications\":null},\"geo\":null,\"coordinates\":null,\"place\":null,\"contributors\":null,\"is_quote_status\":false,\"extended_tweet\":{\"full_text\":\"Can an Algorithm Tell When Kids Are in Danger? https:\\\\/\\\\/t.co\\\\/ugTVCVfTF1 #DataScience #DataScientist #BigData #IoT #InternetOfThings #IIoT #IndustrialIoT #Industry40 #AI #ArtificialIntelligence #MachineLearning #Analytics #BlockChain #Technology #Business #DeepLearning\",\"display_text_range\":[0,267],\"entities\":{\"hashtags\":[{\"text\":\"DataScience\",\"indices\":[71,83]},{\"text\":\"DataScientist\",\"indices\":[84,98]},{\"text\":\"BigData\",\"indices\":[99,107]},{\"text\":\"IoT\",\"indices\":[108,112]},{\"text\":\"InternetOfThings\",\"indices\":[113,130]},{\"text\":\"IIoT\",\"indices\":[131,136]},{\"text\":\"IndustrialIoT\",\"indices\":[137,151]},{\"text\":\"Industry40\",\"indices\":[152,163]},{\"text\":\"AI\",\"indices\":[164,167]},{\"text\":\"ArtificialIntelligence\",\"indices\":[168,191]},{\"text\":\"MachineLearning\",\"indices\":[192,208]},{\"text\":\"Analytics\",\"indices\":[209,219]},{\"text\":\"BlockChain\",\"indices\":[220,231]},{\"text\":\"Technology\",\"indices\":[232,243]},{\"text\":\"Business\",\"indices\":[244,253]},{\"text\":\"DeepLearning\",\"indices\":[254,267]}],\"urls\":[{\"url\":\"https:\\\\/\\\\/t.co\\\\/ugTVCVfTF1\",\"expanded_url\":\"https:\\\\/\\\\/www.nytimes.com\\\\/2018\\\\/01\\\\/02\\\\/magazine\\\\/can-an-algorithm-tell-when-kids-are-in-danger\",\"display_url\":\"nytimes.com\\\\/2018\\\\/01\\\\/02\\\\/mag\\\\u2026\",\"indices\":[47,70]}],\"user_mentions\":[],\"symbols\":[]}},\"quote_count\":0,\"reply_count\":0,\"retweet_count\":88,\"favorite_count\":1,\"entities\":{\"hashtags\":[{\"text\":\"DataScience\",\"indices\":[71,83]},{\"text\":\"DataScientist\",\"indices\":[84,98]},{\"text\":\"BigData\",\"indices\":[99,107]},{\"text\":\"IoT\",\"indices\":[108,112]}],\"urls\":[{\"url\":\"https:\\\\/\\\\/t.co\\\\/ugTVCVfTF1\",\"expanded_url\":\"https:\\\\/\\\\/www.nytimes.com\\\\/2018\\\\/01\\\\/02\\\\/magazine\\\\/can-an-algorithm-tell-when-kids-are-in-danger\",\"display_url\":\"nytimes.com\\\\/2018\\\\/01\\\\/02\\\\/mag\\\\u2026\",\"indices\":[47,70]},{\"url\":\"https:\\\\/\\\\/t.co\\\\/fo3y5NPJkw\",\"expanded_url\":\"https:\\\\/\\\\/twitter.com\\\\/i\\\\/web\\\\/status\\\\/955364415368499200\",\"display_url\":\"twitter.com\\\\/i\\\\/web\\\\/status\\\\/9\\\\u2026\",\"indices\":[114,137]}],\"user_mentions\":[],\"symbols\":[]},\"favorited\":false,\"retweeted\":false,\"possibly_sensitive\":false,\"filter_level\":\"low\",\"lang\":\"en\"},\"is_quote_status\":false,\"quote_count\":0,\"reply_count\":0,\"retweet_count\":0,\"favorite_count\":0,\"entities\":{\"hashtags\":[{\"text\":\"DataScience\",\"indices\":[88,100]},{\"text\":\"DataScientist\",\"indices\":[101,115]},{\"text\":\"BigData\",\"indices\":[116,124]},{\"text\":\"IoT\",\"indices\":[125,129]}],\"urls\":[{\"url\":\"https:\\\\/\\\\/t.co\\\\/ugTVCVfTF1\",\"expanded_url\":\"https:\\\\/\\\\/www.nytimes.com\\\\/2018\\\\/01\\\\/02\\\\/magazine\\\\/can-an-algorithm-tell-when-kids-are-in-danger\",\"display_url\":\"nytimes.com\\\\/2018\\\\/01\\\\/02\\\\/mag\\\\u2026\",\"indices\":[64,87]}],\"user_mentions\":[{\"screen_name\":\"timothychou\",\"name\":\"Timothy Chou\",\"id\":17116202,\"id_str\":\"17116202\",\"indices\":[3,15]}],\"symbols\":[]},\"favorited\":false,\"retweeted\":false,\"possibly_sensitive\":false,\"filter_level\":\"low\",\"lang\":\"en\",\"timestamp_ms\":\"1516613500915\"}\\r\\n',\n",
       "   'twitter_id': 955372383799410688},\n",
       "  '_type': 'tweet'},\n",
       " {'_id': 'ZTY1HWEB9Wu5eUigg32f',\n",
       "  '_index': 'twitter',\n",
       "  '_score': 1.0,\n",
       "  '_source': {'postDate': '2018-01-22T09:31:41.855Z',\n",
       "   'tweet': '{\"created_at\":\"Mon Jan 22 09:31:41 +0000 2018\",\"id\":955372384529408000,\"id_str\":\"955372384529408000\",\"text\":\"RT @simdaq: Let\\'s chat. Join us on Telegram and get instant updates on the project: https:\\\\/\\\\/t.co\\\\/N00L0FQfQU \\\\n#ico #trading #waves #bitcoin\\\\u2026\",\"source\":\"\\\\u003ca href=\\\\\"http:\\\\/\\\\/twitter.com\\\\\" rel=\\\\\"nofollow\\\\\"\\\\u003eTwitter Web Client\\\\u003c\\\\/a\\\\u003e\",\"truncated\":false,\"in_reply_to_status_id\":null,\"in_reply_to_status_id_str\":null,\"in_reply_to_user_id\":null,\"in_reply_to_user_id_str\":null,\"in_reply_to_screen_name\":null,\"user\":{\"id\":299111762,\"id_str\":\"299111762\",\"name\":\"\\\\u0415\\\\u0430\\\\u0433\\\\u0435\\\\u043d\\\\u0438\\\\u0439 \\\\u041a\\\\u0430\\\\u0447\\\\u0430\\\\u043d\",\"screen_name\":\"Onegyn88\",\"location\":null,\"url\":null,\"description\":null,\"translator_type\":\"none\",\"protected\":false,\"verified\":false,\"followers_count\":187,\"friends_count\":235,\"listed_count\":2,\"favourites_count\":63,\"statuses_count\":713,\"created_at\":\"Sun May 15 14:42:07 +0000 2011\",\"utc_offset\":null,\"time_zone\":null,\"geo_enabled\":false,\"lang\":\"ru\",\"contributors_enabled\":false,\"is_translator\":false,\"profile_background_color\":\"C0DEED\",\"profile_background_image_url\":\"http:\\\\/\\\\/abs.twimg.com\\\\/images\\\\/themes\\\\/theme1\\\\/bg.png\",\"profile_background_image_url_https\":\"https:\\\\/\\\\/abs.twimg.com\\\\/images\\\\/themes\\\\/theme1\\\\/bg.png\",\"profile_background_tile\":false,\"profile_link_color\":\"1DA1F2\",\"profile_sidebar_border_color\":\"C0DEED\",\"profile_sidebar_fill_color\":\"DDEEF6\",\"profile_text_color\":\"333333\",\"profile_use_background_image\":true,\"profile_image_url\":\"http:\\\\/\\\\/pbs.twimg.com\\\\/profile_images\\\\/665876973781143552\\\\/cRMLFk_v_normal.jpg\",\"profile_image_url_https\":\"https:\\\\/\\\\/pbs.twimg.com\\\\/profile_images\\\\/665876973781143552\\\\/cRMLFk_v_normal.jpg\",\"profile_banner_url\":\"https:\\\\/\\\\/pbs.twimg.com\\\\/profile_banners\\\\/299111762\\\\/1505979226\",\"default_profile\":true,\"default_profile_image\":false,\"following\":null,\"follow_request_sent\":null,\"notifications\":null},\"geo\":null,\"coordinates\":null,\"place\":null,\"contributors\":null,\"retweeted_status\":{\"created_at\":\"Mon Jan 22 07:00:18 +0000 2018\",\"id\":955334290719592452,\"id_str\":\"955334290719592452\",\"text\":\"Let\\'s chat. Join us on Telegram and get instant updates on the project: https:\\\\/\\\\/t.co\\\\/N00L0FQfQU \\\\n#ico #trading\\\\u2026 https:\\\\/\\\\/t.co\\\\/oC04Bswx3V\",\"display_text_range\":[0,140],\"source\":\"\\\\u003ca href=\\\\\"http:\\\\/\\\\/sproutsocial.com\\\\\" rel=\\\\\"nofollow\\\\\"\\\\u003eSprout Social\\\\u003c\\\\/a\\\\u003e\",\"truncated\":true,\"in_reply_to_status_id\":null,\"in_reply_to_status_id_str\":null,\"in_reply_to_user_id\":null,\"in_reply_to_user_id_str\":null,\"in_reply_to_screen_name\":null,\"user\":{\"id\":897779233451323393,\"id_str\":\"897779233451323393\",\"name\":\"Simdaq\",\"screen_name\":\"simdaq\",\"location\":null,\"url\":\"http:\\\\/\\\\/simdaq.com\",\"description\":\"A set of tools for mastering trading strategies: training on historical data, framework for trading robots development and backtesting.\",\"translator_type\":\"none\",\"protected\":false,\"verified\":false,\"followers_count\":1876,\"friends_count\":31,\"listed_count\":10,\"favourites_count\":4,\"statuses_count\":175,\"created_at\":\"Wed Aug 16 11:17:04 +0000 2017\",\"utc_offset\":null,\"time_zone\":null,\"geo_enabled\":false,\"lang\":\"en\",\"contributors_enabled\":false,\"is_translator\":false,\"profile_background_color\":\"F5F8FA\",\"profile_background_image_url\":\"\",\"profile_background_image_url_https\":\"\",\"profile_background_tile\":false,\"profile_link_color\":\"1DA1F2\",\"profile_sidebar_border_color\":\"C0DEED\",\"profile_sidebar_fill_color\":\"DDEEF6\",\"profile_text_color\":\"333333\",\"profile_use_background_image\":true,\"profile_image_url\":\"http:\\\\/\\\\/pbs.twimg.com\\\\/profile_images\\\\/923637949601910786\\\\/1kl9wMJh_normal.jpg\",\"profile_image_url_https\":\"https:\\\\/\\\\/pbs.twimg.com\\\\/profile_images\\\\/923637949601910786\\\\/1kl9wMJh_normal.jpg\",\"profile_banner_url\":\"https:\\\\/\\\\/pbs.twimg.com\\\\/profile_banners\\\\/897779233451323393\\\\/1509047601\",\"default_profile\":true,\"default_profile_image\":false,\"following\":null,\"follow_request_sent\":null,\"notifications\":null},\"geo\":null,\"coordinates\":null,\"place\":null,\"contributors\":null,\"is_quote_status\":false,\"extended_tweet\":{\"full_text\":\"Let\\'s chat. Join us on Telegram and get instant updates on the project: https:\\\\/\\\\/t.co\\\\/N00L0FQfQU \\\\n#ico #trading #waves #bitcoin #simdaq https:\\\\/\\\\/t.co\\\\/3J2YYjDB4L\",\"display_text_range\":[0,134],\"entities\":{\"hashtags\":[{\"text\":\"ico\",\"indices\":[97,101]},{\"text\":\"trading\",\"indices\":[102,110]},{\"text\":\"waves\",\"indices\":[111,117]},{\"text\":\"bitcoin\",\"indices\":[118,126]},{\"text\":\"simdaq\",\"indices\":[127,134]}],\"urls\":[{\"url\":\"https:\\\\/\\\\/t.co\\\\/N00L0FQfQU\",\"expanded_url\":\"https:\\\\/\\\\/t.me\\\\/simdaq\",\"display_url\":\"t.me\\\\/simdaq\",\"indices\":[72,95]}],\"user_mentions\":[],\"symbols\":[],\"media\":[{\"id\":955334288400048128,\"id_str\":\"955334288400048128\",\"indices\":[135,158],\"media_url\":\"http:\\\\/\\\\/pbs.twimg.com\\\\/media\\\\/DUIHeUXV4AAF94n.jpg\",\"media_url_https\":\"https:\\\\/\\\\/pbs.twimg.com\\\\/media\\\\/DUIHeUXV4AAF94n.jpg\",\"url\":\"https:\\\\/\\\\/t.co\\\\/3J2YYjDB4L\",\"display_url\":\"pic.twitter.com\\\\/3J2YYjDB4L\",\"expanded_url\":\"https:\\\\/\\\\/twitter.com\\\\/simdaq\\\\/status\\\\/955334290719592452\\\\/photo\\\\/1\",\"type\":\"photo\",\"sizes\":{\"thumb\":{\"w\":150,\"h\":150,\"resize\":\"crop\"},\"large\":{\"w\":1200,\"h\":630,\"resize\":\"fit\"},\"medium\":{\"w\":1200,\"h\":630,\"resize\":\"fit\"},\"small\":{\"w\":680,\"h\":357,\"resize\":\"fit\"}}}]},\"extended_entities\":{\"media\":[{\"id\":955334288400048128,\"id_str\":\"955334288400048128\",\"indices\":[135,158],\"media_url\":\"http:\\\\/\\\\/pbs.twimg.com\\\\/media\\\\/DUIHeUXV4AAF94n.jpg\",\"media_url_https\":\"https:\\\\/\\\\/pbs.twimg.com\\\\/media\\\\/DUIHeUXV4AAF94n.jpg\",\"url\":\"https:\\\\/\\\\/t.co\\\\/3J2YYjDB4L\",\"display_url\":\"pic.twitter.com\\\\/3J2YYjDB4L\",\"expanded_url\":\"https:\\\\/\\\\/twitter.com\\\\/simdaq\\\\/status\\\\/955334290719592452\\\\/photo\\\\/1\",\"type\":\"photo\",\"sizes\":{\"thumb\":{\"w\":150,\"h\":150,\"resize\":\"crop\"},\"large\":{\"w\":1200,\"h\":630,\"resize\":\"fit\"},\"medium\":{\"w\":1200,\"h\":630,\"resize\":\"fit\"},\"small\":{\"w\":680,\"h\":357,\"resize\":\"fit\"}}}]}},\"quote_count\":0,\"reply_count\":0,\"retweet_count\":49,\"favorite_count\":5,\"entities\":{\"hashtags\":[{\"text\":\"ico\",\"indices\":[97,101]},{\"text\":\"trading\",\"indices\":[102,110]}],\"urls\":[{\"url\":\"https:\\\\/\\\\/t.co\\\\/N00L0FQfQU\",\"expanded_url\":\"https:\\\\/\\\\/t.me\\\\/simdaq\",\"display_url\":\"t.me\\\\/simdaq\",\"indices\":[72,95]},{\"url\":\"https:\\\\/\\\\/t.co\\\\/oC04Bswx3V\",\"expanded_url\":\"https:\\\\/\\\\/twitter.com\\\\/i\\\\/web\\\\/status\\\\/955334290719592452\",\"display_url\":\"twitter.com\\\\/i\\\\/web\\\\/status\\\\/9\\\\u2026\",\"indices\":[112,135]}],\"user_mentions\":[],\"symbols\":[]},\"favorited\":false,\"retweeted\":false,\"possibly_sensitive\":false,\"filter_level\":\"low\",\"lang\":\"en\"},\"is_quote_status\":false,\"quote_count\":0,\"reply_count\":0,\"retweet_count\":0,\"favorite_count\":0,\"entities\":{\"hashtags\":[{\"text\":\"ico\",\"indices\":[109,113]},{\"text\":\"trading\",\"indices\":[114,122]},{\"text\":\"waves\",\"indices\":[123,129]},{\"text\":\"bitcoin\",\"indices\":[130,138]}],\"urls\":[{\"url\":\"https:\\\\/\\\\/t.co\\\\/N00L0FQfQU\",\"expanded_url\":\"https:\\\\/\\\\/t.me\\\\/simdaq\",\"display_url\":\"t.me\\\\/simdaq\",\"indices\":[84,107]}],\"user_mentions\":[{\"screen_name\":\"simdaq\",\"name\":\"Simdaq\",\"id\":897779233451323393,\"id_str\":\"897779233451323393\",\"indices\":[3,10]}],\"symbols\":[]},\"favorited\":false,\"retweeted\":false,\"possibly_sensitive\":false,\"filter_level\":\"low\",\"lang\":\"en\",\"timestamp_ms\":\"1516613501089\"}\\r\\n',\n",
       "   'twitter_id': 955372384529408000},\n",
       "  '_type': 'tweet'},\n",
       " {'_id': 'bDY1HWEB9Wu5eUighX2b',\n",
       "  '_index': 'twitter',\n",
       "  '_score': 1.0,\n",
       "  '_source': {'postDate': '2018-01-22T09:31:42.362Z',\n",
       "   'tweet': '{\"created_at\":\"Mon Jan 22 09:31:41 +0000 2018\",\"id\":955372386991226881,\"id_str\":\"955372386991226881\",\"text\":\"RT @mas_oyama_coin: Masutatsu Oyama crypto currency, Mas Oyama coin (MAS) Start Pre-sale on 15th Feb. Please check official website! https:\\\\u2026\",\"source\":\"\\\\u003ca href=\\\\\"http:\\\\/\\\\/twitter.com\\\\/download\\\\/android\\\\\" rel=\\\\\"nofollow\\\\\"\\\\u003eTwitter for Android\\\\u003c\\\\/a\\\\u003e\",\"truncated\":false,\"in_reply_to_status_id\":null,\"in_reply_to_status_id_str\":null,\"in_reply_to_user_id\":null,\"in_reply_to_user_id_str\":null,\"in_reply_to_screen_name\":null,\"user\":{\"id\":955326857767014400,\"id_str\":\"955326857767014400\",\"name\":\"Wen Buntin\",\"screen_name\":\"WenBuntin4\",\"location\":null,\"url\":null,\"description\":null,\"translator_type\":\"none\",\"protected\":false,\"verified\":false,\"followers_count\":0,\"friends_count\":18,\"listed_count\":0,\"favourites_count\":0,\"statuses_count\":17,\"created_at\":\"Mon Jan 22 06:30:46 +0000 2018\",\"utc_offset\":null,\"time_zone\":null,\"geo_enabled\":false,\"lang\":\"en\",\"contributors_enabled\":false,\"is_translator\":false,\"profile_background_color\":\"F5F8FA\",\"profile_background_image_url\":\"\",\"profile_background_image_url_https\":\"\",\"profile_background_tile\":false,\"profile_link_color\":\"1DA1F2\",\"profile_sidebar_border_color\":\"C0DEED\",\"profile_sidebar_fill_color\":\"DDEEF6\",\"profile_text_color\":\"333333\",\"profile_use_background_image\":true,\"profile_image_url\":\"http:\\\\/\\\\/pbs.twimg.com\\\\/profile_images\\\\/955327993643184128\\\\/54Y3yQC6_normal.jpg\",\"profile_image_url_https\":\"https:\\\\/\\\\/pbs.twimg.com\\\\/profile_images\\\\/955327993643184128\\\\/54Y3yQC6_normal.jpg\",\"default_profile\":true,\"default_profile_image\":false,\"following\":null,\"follow_request_sent\":null,\"notifications\":null},\"geo\":null,\"coordinates\":null,\"place\":null,\"contributors\":null,\"retweeted_status\":{\"created_at\":\"Sun Jan 21 03:54:39 +0000 2018\",\"id\":954925181411115009,\"id_str\":\"954925181411115009\",\"text\":\"Masutatsu Oyama crypto currency, Mas Oyama coin (MAS) Start Pre-sale on 15th Feb. Please check official website!\\\\u2026 https:\\\\/\\\\/t.co\\\\/nTvrW8Iwp9\",\"source\":\"\\\\u003ca href=\\\\\"http:\\\\/\\\\/twitter.com\\\\\" rel=\\\\\"nofollow\\\\\"\\\\u003eTwitter Web Client\\\\u003c\\\\/a\\\\u003e\",\"truncated\":true,\"in_reply_to_status_id\":null,\"in_reply_to_status_id_str\":null,\"in_reply_to_user_id\":null,\"in_reply_to_user_id_str\":null,\"in_reply_to_screen_name\":null,\"user\":{\"id\":953500135589257217,\"id_str\":\"953500135589257217\",\"name\":\"Mas Oyama coin\",\"screen_name\":\"mas_oyama_coin\",\"location\":\"\\\\u65e5\\\\u672c\",\"url\":\"https:\\\\/\\\\/mas-oyama-coin.org\",\"description\":\"Kyokushin Karate founder Mas Oyama coin. ERC20 Token. \\\\n\\\\n\\\\u6975\\\\u771f\\\\u7a7a\\\\u624b\\\\u5275\\\\u59cb\\\\u8005\\\\u3001\\\\u5927\\\\u5c71\\\\u500d\\\\u9054\\\\u306e\\\\u4eee\\\\u60f3\\\\u901a\\\\u8ca8\\\\u3067\\\\u3059\\\\u3002\",\"translator_type\":\"none\",\"protected\":false,\"verified\":false,\"followers_count\":34,\"friends_count\":102,\"listed_count\":1,\"favourites_count\":200,\"statuses_count\":24,\"created_at\":\"Wed Jan 17 05:32:02 +0000 2018\",\"utc_offset\":null,\"time_zone\":null,\"geo_enabled\":false,\"lang\":\"ja\",\"contributors_enabled\":false,\"is_translator\":false,\"profile_background_color\":\"000000\",\"profile_background_image_url\":\"http:\\\\/\\\\/abs.twimg.com\\\\/images\\\\/themes\\\\/theme1\\\\/bg.png\",\"profile_background_image_url_https\":\"https:\\\\/\\\\/abs.twimg.com\\\\/images\\\\/themes\\\\/theme1\\\\/bg.png\",\"profile_background_tile\":false,\"profile_link_color\":\"1B95E0\",\"profile_sidebar_border_color\":\"000000\",\"profile_sidebar_fill_color\":\"000000\",\"profile_text_color\":\"000000\",\"profile_use_background_image\":false,\"profile_image_url\":\"http:\\\\/\\\\/pbs.twimg.com\\\\/profile_images\\\\/953500914324664320\\\\/ELVyaxCg_normal.jpg\",\"profile_image_url_https\":\"https:\\\\/\\\\/pbs.twimg.com\\\\/profile_images\\\\/953500914324664320\\\\/ELVyaxCg_normal.jpg\",\"profile_banner_url\":\"https:\\\\/\\\\/pbs.twimg.com\\\\/profile_banners\\\\/953500135589257217\\\\/1516375290\",\"default_profile\":false,\"default_profile_image\":false,\"following\":null,\"follow_request_sent\":null,\"notifications\":null},\"geo\":null,\"coordinates\":null,\"place\":null,\"contributors\":null,\"is_quote_status\":false,\"extended_tweet\":{\"full_text\":\"Masutatsu Oyama crypto currency, Mas Oyama coin (MAS) Start Pre-sale on 15th Feb. Please check official website! https:\\\\/\\\\/t.co\\\\/KnGdjcQ6Ac #MAS #ICO #TGE #MasOyama #cryptocurrency\",\"display_text_range\":[0,177],\"entities\":{\"hashtags\":[{\"text\":\"MAS\",\"indices\":[137,141]},{\"text\":\"ICO\",\"indices\":[142,146]},{\"text\":\"TGE\",\"indices\":[147,151]},{\"text\":\"MasOyama\",\"indices\":[152,161]},{\"text\":\"cryptocurrency\",\"indices\":[162,177]}],\"urls\":[{\"url\":\"https:\\\\/\\\\/t.co\\\\/KnGdjcQ6Ac\",\"expanded_url\":\"https:\\\\/\\\\/mas-oyama-coin.org\\\\/en\\\\/\",\"display_url\":\"mas-oyama-coin.org\\\\/en\\\\/\",\"indices\":[113,136]}],\"user_mentions\":[],\"symbols\":[]}},\"quote_count\":1,\"reply_count\":0,\"retweet_count\":784,\"favorite_count\":8,\"entities\":{\"hashtags\":[],\"urls\":[{\"url\":\"https:\\\\/\\\\/t.co\\\\/nTvrW8Iwp9\",\"expanded_url\":\"https:\\\\/\\\\/twitter.com\\\\/i\\\\/web\\\\/status\\\\/954925181411115009\",\"display_url\":\"twitter.com\\\\/i\\\\/web\\\\/status\\\\/9\\\\u2026\",\"indices\":[114,137]}],\"user_mentions\":[],\"symbols\":[]},\"favorited\":false,\"retweeted\":false,\"possibly_sensitive\":false,\"filter_level\":\"low\",\"lang\":\"en\"},\"is_quote_status\":false,\"quote_count\":0,\"reply_count\":0,\"retweet_count\":0,\"favorite_count\":0,\"entities\":{\"hashtags\":[],\"urls\":[],\"user_mentions\":[{\"screen_name\":\"mas_oyama_coin\",\"name\":\"Mas Oyama coin\",\"id\":953500135589257217,\"id_str\":\"953500135589257217\",\"indices\":[3,18]}],\"symbols\":[]},\"favorited\":false,\"retweeted\":false,\"filter_level\":\"low\",\"lang\":\"en\",\"timestamp_ms\":\"1516613501676\"}\\r\\n',\n",
       "   'twitter_id': 955372386991226881},\n",
       "  '_type': 'tweet'},\n",
       " {'_id': 'zjY0HWEB9Wu5eUig33uP',\n",
       "  '_index': 'twitter',\n",
       "  '_score': 1.0,\n",
       "  '_source': {'postDate': '2018-01-22T09:30:59.854Z',\n",
       "   'tweet': '{\"created_at\":\"Mon Jan 22 09:30:59 +0000 2018\",\"id\":955372208787947520,\"id_str\":\"955372208787947520\",\"text\":\"U.S. Rating Agency to Issue Bitcoin and Cryptocurrency Grades Wednesday https:\\\\/\\\\/t.co\\\\/5N9nBLXs7r via @BTCTN\",\"source\":\"\\\\u003ca href=\\\\\"http:\\\\/\\\\/twitter.com\\\\/download\\\\/iphone\\\\\" rel=\\\\\"nofollow\\\\\"\\\\u003eTwitter for iPhone\\\\u003c\\\\/a\\\\u003e\",\"truncated\":false,\"in_reply_to_status_id\":null,\"in_reply_to_status_id_str\":null,\"in_reply_to_user_id\":null,\"in_reply_to_user_id_str\":null,\"in_reply_to_screen_name\":null,\"user\":{\"id\":840855773915807744,\"id_str\":\"840855773915807744\",\"name\":\"Kees Cramer\",\"screen_name\":\"CramerKees\",\"location\":\"Bucharest, Romania\",\"url\":null,\"description\":\"Dutch since 03\\\\/2001 in beautiful Romania.Lobbyist for Indigenous Diversity Preservation in Europe.Anti-EU.Staunch Israel supporter \\\\ud83c\\\\uddee\\\\ud83c\\\\uddf1 $XSH $NXT $DIX $ARDR\",\"translator_type\":\"none\",\"protected\":false,\"verified\":false,\"followers_count\":1996,\"friends_count\":4892,\"listed_count\":6,\"favourites_count\":1297,\"statuses_count\":13804,\"created_at\":\"Sun Mar 12 09:23:33 +0000 2017\",\"utc_offset\":null,\"time_zone\":null,\"geo_enabled\":true,\"lang\":\"en\",\"contributors_enabled\":false,\"is_translator\":false,\"profile_background_color\":\"F5F8FA\",\"profile_background_image_url\":\"\",\"profile_background_image_url_https\":\"\",\"profile_background_tile\":false,\"profile_link_color\":\"1DA1F2\",\"profile_sidebar_border_color\":\"C0DEED\",\"profile_sidebar_fill_color\":\"DDEEF6\",\"profile_text_color\":\"333333\",\"profile_use_background_image\":true,\"profile_image_url\":\"http:\\\\/\\\\/pbs.twimg.com\\\\/profile_images\\\\/928635662919708672\\\\/OtdkLqe0_normal.jpg\",\"profile_image_url_https\":\"https:\\\\/\\\\/pbs.twimg.com\\\\/profile_images\\\\/928635662919708672\\\\/OtdkLqe0_normal.jpg\",\"profile_banner_url\":\"https:\\\\/\\\\/pbs.twimg.com\\\\/profile_banners\\\\/840855773915807744\\\\/1489351026\",\"default_profile\":true,\"default_profile_image\":false,\"following\":null,\"follow_request_sent\":null,\"notifications\":null},\"geo\":null,\"coordinates\":null,\"place\":null,\"contributors\":null,\"is_quote_status\":false,\"quote_count\":0,\"reply_count\":0,\"retweet_count\":0,\"favorite_count\":0,\"entities\":{\"hashtags\":[],\"urls\":[{\"url\":\"https:\\\\/\\\\/t.co\\\\/5N9nBLXs7r\",\"expanded_url\":\"https:\\\\/\\\\/news.bitcoin.com\\\\/u-s-rating-agency-to-issue-bitcoin-and-cryptocurrency-grades-wednesday\\\\/\",\"display_url\":\"news.bitcoin.com\\\\/u-s-rating-age\\\\u2026\",\"indices\":[72,95]}],\"user_mentions\":[{\"screen_name\":\"BTCTN\",\"name\":\"Bitcoin News\",\"id\":3367334171,\"id_str\":\"3367334171\",\"indices\":[100,106]}],\"symbols\":[]},\"favorited\":false,\"retweeted\":false,\"possibly_sensitive\":false,\"filter_level\":\"low\",\"lang\":\"en\",\"timestamp_ms\":\"1516613459189\"}\\r\\n',\n",
       "   'twitter_id': 955372208787947520},\n",
       "  '_type': 'tweet'},\n",
       " {'_id': '1jY0HWEB9Wu5eUig4XuK',\n",
       "  '_index': 'twitter',\n",
       "  '_score': 1.0,\n",
       "  '_source': {'postDate': '2018-01-22T09:31:00.362Z',\n",
       "   'tweet': '{\"created_at\":\"Mon Jan 22 09:30:59 +0000 2018\",\"id\":955372210297888768,\"id_str\":\"955372210297888768\",\"text\":\"RT @justinsuntron: Good summary. https:\\\\/\\\\/t.co\\\\/itB8SuDbr3\",\"source\":\"\\\\u003ca href=\\\\\"http:\\\\/\\\\/twitter.com\\\\/download\\\\/android\\\\\" rel=\\\\\"nofollow\\\\\"\\\\u003eTwitter for Android\\\\u003c\\\\/a\\\\u003e\",\"truncated\":false,\"in_reply_to_status_id\":null,\"in_reply_to_status_id_str\":null,\"in_reply_to_user_id\":null,\"in_reply_to_user_id_str\":null,\"in_reply_to_screen_name\":null,\"user\":{\"id\":901887050332459008,\"id_str\":\"901887050332459008\",\"name\":\"Lawanda Majorie\",\"screen_name\":\"MajorieLawanda\",\"location\":null,\"url\":null,\"description\":\"God = 1 in my life eamProudMommy R.I.P BIG SIS I LOV YOU!..CollegeGirl TeamGemini TeamIDGAF Cool Smart Goofy GaNation Ulost?...FOLLOW ME!\",\"translator_type\":\"none\",\"protected\":false,\"verified\":false,\"followers_count\":0,\"friends_count\":0,\"listed_count\":0,\"favourites_count\":32,\"statuses_count\":75,\"created_at\":\"Sun Aug 27 19:20:04 +0000 2017\",\"utc_offset\":null,\"time_zone\":null,\"geo_enabled\":false,\"lang\":\"en\",\"contributors_enabled\":false,\"is_translator\":false,\"profile_background_color\":\"F5F8FA\",\"profile_background_image_url\":\"\",\"profile_background_image_url_https\":\"\",\"profile_background_tile\":false,\"profile_link_color\":\"1DA1F2\",\"profile_sidebar_border_color\":\"C0DEED\",\"profile_sidebar_fill_color\":\"DDEEF6\",\"profile_text_color\":\"333333\",\"profile_use_background_image\":true,\"profile_image_url\":\"http:\\\\/\\\\/pbs.twimg.com\\\\/profile_images\\\\/901890569227698179\\\\/IBP-i1QY_normal.jpg\",\"profile_image_url_https\":\"https:\\\\/\\\\/pbs.twimg.com\\\\/profile_images\\\\/901890569227698179\\\\/IBP-i1QY_normal.jpg\",\"default_profile\":true,\"default_profile_image\":false,\"following\":null,\"follow_request_sent\":null,\"notifications\":null},\"geo\":null,\"coordinates\":null,\"place\":null,\"contributors\":null,\"retweeted_status\":{\"created_at\":\"Sat Jan 20 17:31:05 +0000 2018\",\"id\":954768253837918208,\"id_str\":\"954768253837918208\",\"text\":\"Good summary. https:\\\\/\\\\/t.co\\\\/itB8SuDbr3\",\"display_text_range\":[0,13],\"source\":\"\\\\u003ca href=\\\\\"http:\\\\/\\\\/twitter.com\\\\/download\\\\/iphone\\\\\" rel=\\\\\"nofollow\\\\\"\\\\u003eTwitter for iPhone\\\\u003c\\\\/a\\\\u003e\",\"truncated\":false,\"in_reply_to_status_id\":null,\"in_reply_to_status_id_str\":null,\"in_reply_to_user_id\":null,\"in_reply_to_user_id_str\":null,\"in_reply_to_screen_name\":null,\"user\":{\"id\":902839045356744704,\"id_str\":\"902839045356744704\",\"name\":\"Justin Sun\",\"screen_name\":\"justinsuntron\",\"location\":\"San Francisco, CA\",\"url\":\"http:\\\\/\\\\/tron.network\",\"description\":\"Founder of @tronfoundation\\\\u4e28@Forbes Asia 30 Under 30\\\\u4e28the Only Millennial Student of Jack Ma from @alibabagroup Hupan University #TRON #TRX $TRX\",\"translator_type\":\"none\",\"protected\":false,\"verified\":false,\"followers_count\":355193,\"friends_count\":156,\"listed_count\":1676,\"favourites_count\":6,\"statuses_count\":567,\"created_at\":\"Wed Aug 30 10:22:57 +0000 2017\",\"utc_offset\":-28800,\"time_zone\":\"Pacific Time (US & Canada)\",\"geo_enabled\":true,\"lang\":\"en\",\"contributors_enabled\":false,\"is_translator\":false,\"profile_background_color\":\"F5F8FA\",\"profile_background_image_url\":\"\",\"profile_background_image_url_https\":\"\",\"profile_background_tile\":false,\"profile_link_color\":\"1DA1F2\",\"profile_sidebar_border_color\":\"C0DEED\",\"profile_sidebar_fill_color\":\"DDEEF6\",\"profile_text_color\":\"333333\",\"profile_use_background_image\":true,\"profile_image_url\":\"http:\\\\/\\\\/pbs.twimg.com\\\\/profile_images\\\\/902842357124435968\\\\/qQxbZ8TN_normal.jpg\",\"profile_image_url_https\":\"https:\\\\/\\\\/pbs.twimg.com\\\\/profile_images\\\\/902842357124435968\\\\/qQxbZ8TN_normal.jpg\",\"profile_banner_url\":\"https:\\\\/\\\\/pbs.twimg.com\\\\/profile_banners\\\\/902839045356744704\\\\/1504102927\",\"default_profile\":true,\"default_profile_image\":false,\"following\":null,\"follow_request_sent\":null,\"notifications\":null},\"geo\":null,\"coordinates\":null,\"place\":null,\"contributors\":null,\"quoted_status_id\":954234965910343681,\"quoted_status_id_str\":\"954234965910343681\",\"quoted_status\":{\"created_at\":\"Fri Jan 19 06:11:59 +0000 2018\",\"id\":954234965910343681,\"id_str\":\"954234965910343681\",\"text\":\"#TRX #TRON will make 1000% growth within a year: \\\\n1- 78 people [80% developers] \\\\n2- 15+ exchanges, expanding weekly\\\\u2026 https:\\\\/\\\\/t.co\\\\/SzIxFbEGV1\",\"display_text_range\":[0,140],\"source\":\"\\\\u003ca href=\\\\\"http:\\\\/\\\\/twitter.com\\\\/download\\\\/android\\\\\" rel=\\\\\"nofollow\\\\\"\\\\u003eTwitter for Android\\\\u003c\\\\/a\\\\u003e\",\"truncated\":true,\"in_reply_to_status_id\":null,\"in_reply_to_status_id_str\":null,\"in_reply_to_user_id\":null,\"in_reply_to_user_id_str\":null,\"in_reply_to_screen_name\":null,\"user\":{\"id\":946997471946924032,\"id_str\":\"946997471946924032\",\"name\":\"Dave \\\\u007bWIN\\\\u007d Cryptos [$TRX] \\\\ud83d\\\\ude80\",\"screen_name\":\"DaveCryptos\",\"location\":\"Earth\",\"url\":\"https:\\\\/\\\\/t.me\\\\/worldcryptoinvest\",\"description\":\"CRYPTO KING \\\\ud83d\\\\ude80 | INVESTOR | STRATEGIST \\\\ud83d\\\\udcf6 | INFLUENCER \\\\ud83d\\\\udea9 | MARKETEER \\\\ud83c\\\\udf0d |  #TRONFAM | #DAVEKNOWS\",\"translator_type\":\"none\",\"protected\":false,\"verified\":false,\"followers_count\":2155,\"friends_count\":83,\"listed_count\":10,\"favourites_count\":1485,\"statuses_count\":937,\"created_at\":\"Sat Dec 30 06:52:46 +0000 2017\",\"utc_offset\":null,\"time_zone\":null,\"geo_enabled\":false,\"lang\":\"nl\",\"contributors_enabled\":false,\"is_translator\":false,\"profile_background_color\":\"F5F8FA\",\"profile_background_image_url\":\"\",\"profile_background_image_url_https\":\"\",\"profile_background_tile\":false,\"profile_link_color\":\"1DA1F2\",\"profile_sidebar_border_color\":\"C0DEED\",\"profile_sidebar_fill_color\":\"DDEEF6\",\"profile_text_color\":\"333333\",\"profile_use_background_image\":true,\"profile_image_url\":\"http:\\\\/\\\\/pbs.twimg.com\\\\/profile_images\\\\/954695582735654912\\\\/Xh1DXJve_normal.jpg\",\"profile_image_url_https\":\"https:\\\\/\\\\/pbs.twimg.com\\\\/profile_images\\\\/954695582735654912\\\\/Xh1DXJve_normal.jpg\",\"profile_banner_url\":\"https:\\\\/\\\\/pbs.twimg.com\\\\/profile_banners\\\\/946997471946924032\\\\/1515309170\",\"default_profile\":true,\"default_profile_image\":false,\"following\":null,\"follow_request_sent\":null,\"notifications\":null},\"geo\":null,\"coordinates\":null,\"place\":null,\"contributors\":null,\"is_quote_status\":false,\"extended_tweet\":{\"full_text\":\"#TRX #TRON will make 1000% growth within a year: \\\\n1- 78 people [80% developers] \\\\n2- 15+ exchanges, expanding weekly\\\\n3- 426083 token holders [60+ countries]\\\\n4- @Tronfoundation tokens locked 2020\\\\n5- Partnerships 40M users @justinsuntron \\\\n6- Decentralised\\\\n#crypto #bitcoin #xvg https:\\\\/\\\\/t.co\\\\/Cd6O0D6AiT\",\"display_text_range\":[0,274],\"entities\":{\"hashtags\":[{\"text\":\"TRX\",\"indices\":[0,4]},{\"text\":\"TRON\",\"indices\":[5,10]},{\"text\":\"crypto\",\"indices\":[253,260]},{\"text\":\"bitcoin\",\"indices\":[261,269]},{\"text\":\"xvg\",\"indices\":[270,274]}],\"urls\":[],\"user_mentions\":[{\"screen_name\":\"Tronfoundation\",\"name\":\"Tron Foundation\",\"id\":894231710065446912,\"id_str\":\"894231710065446912\",\"indices\":[159,174]},{\"screen_name\":\"justinsuntron\",\"name\":\"Justin Sun\",\"id\":902839045356744704,\"id_str\":\"902839045356744704\",\"indices\":[220,234]}],\"symbols\":[],\"media\":[{\"id\":954234962626138112,\"id_str\":\"954234962626138112\",\"indices\":[275,298],\"media_url\":\"http:\\\\/\\\\/pbs.twimg.com\\\\/media\\\\/DT4fpIuW0AAZ1xy.jpg\",\"media_url_https\":\"https:\\\\/\\\\/pbs.twimg.com\\\\/media\\\\/DT4fpIuW0AAZ1xy.jpg\",\"url\":\"https:\\\\/\\\\/t.co\\\\/Cd6O0D6AiT\",\"display_url\":\"pic.twitter.com\\\\/Cd6O0D6AiT\",\"expanded_url\":\"https:\\\\/\\\\/twitter.com\\\\/DaveCryptos\\\\/status\\\\/954234965910343681\\\\/photo\\\\/1\",\"type\":\"photo\",\"sizes\":{\"thumb\":{\"w\":150,\"h\":150,\"resize\":\"crop\"},\"medium\":{\"w\":736,\"h\":381,\"resize\":\"fit\"},\"small\":{\"w\":680,\"h\":352,\"resize\":\"fit\"},\"large\":{\"w\":736,\"h\":381,\"resize\":\"fit\"}}}]},\"extended_entities\":{\"media\":[{\"id\":954234962626138112,\"id_str\":\"954234962626138112\",\"indices\":[275,298],\"media_url\":\"http:\\\\/\\\\/pbs.twimg.com\\\\/media\\\\/DT4fpIuW0AAZ1xy.jpg\",\"media_url_https\":\"https:\\\\/\\\\/pbs.twimg.com\\\\/media\\\\/DT4fpIuW0AAZ1xy.jpg\",\"url\":\"https:\\\\/\\\\/t.co\\\\/Cd6O0D6AiT\",\"display_url\":\"pic.twitter.com\\\\/Cd6O0D6AiT\",\"expanded_url\":\"https:\\\\/\\\\/twitter.com\\\\/DaveCryptos\\\\/status\\\\/954234965910343681\\\\/photo\\\\/1\",\"type\":\"photo\",\"sizes\":{\"thumb\":{\"w\":150,\"h\":150,\"resize\":\"crop\"},\"medium\":{\"w\":736,\"h\":381,\"resize\":\"fit\"},\"small\":{\"w\":680,\"h\":352,\"resize\":\"fit\"},\"large\":{\"w\":736,\"h\":381,\"resize\":\"fit\"}}}]}},\"quote_count\":37,\"reply_count\":141,\"retweet_count\":481,\"favorite_count\":1107,\"entities\":{\"hashtags\":[{\"text\":\"TRX\",\"indices\":[0,4]},{\"text\":\"TRON\",\"indices\":[5,10]}],\"urls\":[{\"url\":\"https:\\\\/\\\\/t.co\\\\/SzIxFbEGV1\",\"expanded_url\":\"https:\\\\/\\\\/twitter.com\\\\/i\\\\/web\\\\/status\\\\/954234965910343681\",\"display_url\":\"twitter.com\\\\/i\\\\/web\\\\/status\\\\/9\\\\u2026\",\"indices\":[117,140]}],\"user_mentions\":[],\"symbols\":[]},\"favorited\":false,\"retweeted\":false,\"possibly_sensitive\":false,\"filter_level\":\"low\",\"lang\":\"en\"},\"is_quote_status\":true,\"quote_count\":48,\"reply_count\":327,\"retweet_count\":2643,\"favorite_count\":5015,\"entities\":{\"hashtags\":[],\"urls\":[{\"url\":\"https:\\\\/\\\\/t.co\\\\/itB8SuDbr3\",\"expanded_url\":\"https:\\\\/\\\\/twitter.com\\\\/davecryptos\\\\/status\\\\/954234965910343681\",\"display_url\":\"twitter.com\\\\/davecryptos\\\\/st\\\\u2026\",\"indices\":[14,37]}],\"user_mentions\":[],\"symbols\":[]},\"favorited\":false,\"retweeted\":false,\"possibly_sensitive\":false,\"filter_level\":\"low\",\"lang\":\"en\"},\"quoted_status_id\":954234965910343681,\"quoted_status_id_str\":\"954234965910343681\",\"quoted_status\":{\"created_at\":\"Fri Jan 19 06:11:59 +0000 2018\",\"id\":954234965910343681,\"id_str\":\"954234965910343681\",\"text\":\"#TRX #TRON will make 1000% growth within a year: \\\\n1- 78 people [80% developers] \\\\n2- 15+ exchanges, expanding weekly\\\\u2026 https:\\\\/\\\\/t.co\\\\/SzIxFbEGV1\",\"display_text_range\":[0,140],\"source\":\"\\\\u003ca href=\\\\\"http:\\\\/\\\\/twitter.com\\\\/download\\\\/android\\\\\" rel=\\\\\"nofollow\\\\\"\\\\u003eTwitter for Android\\\\u003c\\\\/a\\\\u003e\",\"truncated\":true,\"in_reply_to_status_id\":null,\"in_reply_to_status_id_str\":null,\"in_reply_to_user_id\":null,\"in_reply_to_user_id_str\":null,\"in_reply_to_screen_name\":null,\"user\":{\"id\":946997471946924032,\"id_str\":\"946997471946924032\",\"name\":\"Dave \\\\u007bWIN\\\\u007d Cryptos [$TRX] \\\\ud83d\\\\ude80\",\"screen_name\":\"DaveCryptos\",\"location\":\"Earth\",\"url\":\"https:\\\\/\\\\/t.me\\\\/worldcryptoinvest\",\"description\":\"CRYPTO KING \\\\ud83d\\\\ude80 | INVESTOR | STRATEGIST \\\\ud83d\\\\udcf6 | INFLUENCER \\\\ud83d\\\\udea9 | MARKETEER \\\\ud83c\\\\udf0d |  #TRONFAM | #DAVEKNOWS\",\"translator_type\":\"none\",\"protected\":false,\"verified\":false,\"followers_count\":2155,\"friends_count\":83,\"listed_count\":10,\"favourites_count\":1485,\"statuses_count\":937,\"created_at\":\"Sat Dec 30 06:52:46 +0000 2017\",\"utc_offset\":null,\"time_zone\":null,\"geo_enabled\":false,\"lang\":\"nl\",\"contributors_enabled\":false,\"is_translator\":false,\"profile_background_color\":\"F5F8FA\",\"profile_background_image_url\":\"\",\"profile_background_image_url_https\":\"\",\"profile_background_tile\":false,\"profile_link_color\":\"1DA1F2\",\"profile_sidebar_border_color\":\"C0DEED\",\"profile_sidebar_fill_color\":\"DDEEF6\",\"profile_text_color\":\"333333\",\"profile_use_background_image\":true,\"profile_image_url\":\"http:\\\\/\\\\/pbs.twimg.com\\\\/profile_images\\\\/954695582735654912\\\\/Xh1DXJve_normal.jpg\",\"profile_image_url_https\":\"https:\\\\/\\\\/pbs.twimg.com\\\\/profile_images\\\\/954695582735654912\\\\/Xh1DXJve_normal.jpg\",\"profile_banner_url\":\"https:\\\\/\\\\/pbs.twimg.com\\\\/profile_banners\\\\/946997471946924032\\\\/1515309170\",\"default_profile\":true,\"default_profile_image\":false,\"following\":null,\"follow_request_sent\":null,\"notifications\":null},\"geo\":null,\"coordinates\":null,\"place\":null,\"contributors\":null,\"is_quote_status\":false,\"extended_tweet\":{\"full_text\":\"#TRX #TRON will make 1000% growth within a year: \\\\n1- 78 people [80% developers] \\\\n2- 15+ exchanges, expanding weekly\\\\n3- 426083 token holders [60+ countries]\\\\n4- @Tronfoundation tokens locked 2020\\\\n5- Partnerships 40M users @justinsuntron \\\\n6- Decentralised\\\\n#crypto #bitcoin #xvg https:\\\\/\\\\/t.co\\\\/Cd6O0D6AiT\",\"display_text_range\":[0,274],\"entities\":{\"hashtags\":[{\"text\":\"TRX\",\"indices\":[0,4]},{\"text\":\"TRON\",\"indices\":[5,10]},{\"text\":\"crypto\",\"indices\":[253,260]},{\"text\":\"bitcoin\",\"indices\":[261,269]},{\"text\":\"xvg\",\"indices\":[270,274]}],\"urls\":[],\"user_mentions\":[{\"screen_name\":\"Tronfoundation\",\"name\":\"Tron Foundation\",\"id\":894231710065446912,\"id_str\":\"894231710065446912\",\"indices\":[159,174]},{\"screen_name\":\"justinsuntron\",\"name\":\"Justin Sun\",\"id\":902839045356744704,\"id_str\":\"902839045356744704\",\"indices\":[220,234]}],\"symbols\":[],\"media\":[{\"id\":954234962626138112,\"id_str\":\"954234962626138112\",\"indices\":[275,298],\"media_url\":\"http:\\\\/\\\\/pbs.twimg.com\\\\/media\\\\/DT4fpIuW0AAZ1xy.jpg\",\"media_url_https\":\"https:\\\\/\\\\/pbs.twimg.com\\\\/media\\\\/DT4fpIuW0AAZ1xy.jpg\",\"url\":\"https:\\\\/\\\\/t.co\\\\/Cd6O0D6AiT\",\"display_url\":\"pic.twitter.com\\\\/Cd6O0D6AiT\",\"expanded_url\":\"https:\\\\/\\\\/twitter.com\\\\/DaveCryptos\\\\/status\\\\/954234965910343681\\\\/photo\\\\/1\",\"type\":\"photo\",\"sizes\":{\"thumb\":{\"w\":150,\"h\":150,\"resize\":\"crop\"},\"medium\":{\"w\":736,\"h\":381,\"resize\":\"fit\"},\"small\":{\"w\":680,\"h\":352,\"resize\":\"fit\"},\"large\":{\"w\":736,\"h\":381,\"resize\":\"fit\"}}}]},\"extended_entities\":{\"media\":[{\"id\":954234962626138112,\"id_str\":\"954234962626138112\",\"indices\":[275,298],\"media_url\":\"http:\\\\/\\\\/pbs.twimg.com\\\\/media\\\\/DT4fpIuW0AAZ1xy.jpg\",\"media_url_https\":\"https:\\\\/\\\\/pbs.twimg.com\\\\/media\\\\/DT4fpIuW0AAZ1xy.jpg\",\"url\":\"https:\\\\/\\\\/t.co\\\\/Cd6O0D6AiT\",\"display_url\":\"pic.twitter.com\\\\/Cd6O0D6AiT\",\"expanded_url\":\"https:\\\\/\\\\/twitter.com\\\\/DaveCryptos\\\\/status\\\\/954234965910343681\\\\/photo\\\\/1\",\"type\":\"photo\",\"sizes\":{\"thumb\":{\"w\":150,\"h\":150,\"resize\":\"crop\"},\"medium\":{\"w\":736,\"h\":381,\"resize\":\"fit\"},\"small\":{\"w\":680,\"h\":352,\"resize\":\"fit\"},\"large\":{\"w\":736,\"h\":381,\"resize\":\"fit\"}}}]}},\"quote_count\":37,\"reply_count\":141,\"retweet_count\":481,\"favorite_count\":1107,\"entities\":{\"hashtags\":[{\"text\":\"TRX\",\"indices\":[0,4]},{\"text\":\"TRON\",\"indices\":[5,10]}],\"urls\":[{\"url\":\"https:\\\\/\\\\/t.co\\\\/SzIxFbEGV1\",\"expanded_url\":\"https:\\\\/\\\\/twitter.com\\\\/i\\\\/web\\\\/status\\\\/954234965910343681\",\"display_url\":\"twitter.com\\\\/i\\\\/web\\\\/status\\\\/9\\\\u2026\",\"indices\":[117,140]}],\"user_mentions\":[],\"symbols\":[]},\"favorited\":false,\"retweeted\":false,\"possibly_sensitive\":false,\"filter_level\":\"low\",\"lang\":\"en\"},\"is_quote_status\":true,\"quote_count\":0,\"reply_count\":0,\"retweet_count\":0,\"favorite_count\":0,\"entities\":{\"hashtags\":[],\"urls\":[{\"url\":\"https:\\\\/\\\\/t.co\\\\/itB8SuDbr3\",\"expanded_url\":\"https:\\\\/\\\\/twitter.com\\\\/davecryptos\\\\/status\\\\/954234965910343681\",\"display_url\":\"twitter.com\\\\/davecryptos\\\\/st\\\\u2026\",\"indices\":[33,56]}],\"user_mentions\":[{\"screen_name\":\"justinsuntron\",\"name\":\"Justin Sun\",\"id\":902839045356744704,\"id_str\":\"902839045356744704\",\"indices\":[3,17]}],\"symbols\":[]},\"favorited\":false,\"retweeted\":false,\"possibly_sensitive\":false,\"filter_level\":\"low\",\"lang\":\"en\",\"timestamp_ms\":\"1516613459549\"}\\r\\n',\n",
       "   'twitter_id': 955372210297888768},\n",
       "  '_type': 'tweet'},\n",
       " {'_id': '1zY0HWEB9Wu5eUig4XuM',\n",
       "  '_index': 'twitter',\n",
       "  '_score': 1.0,\n",
       "  '_source': {'postDate': '2018-01-22T09:31:00.364Z',\n",
       "   'tweet': '{\"created_at\":\"Mon Jan 22 09:30:59 +0000 2018\",\"id\":955372211011051520,\"id_str\":\"955372211011051520\",\"text\":\"RT @CNN: The 1% grabbed 82% of all wealth created in 2017 https:\\\\/\\\\/t.co\\\\/fEHnwRDWdX https:\\\\/\\\\/t.co\\\\/qfbPXaiiFA\",\"source\":\"\\\\u003ca href=\\\\\"http:\\\\/\\\\/twitter.com\\\\/download\\\\/iphone\\\\\" rel=\\\\\"nofollow\\\\\"\\\\u003eTwitter for iPhone\\\\u003c\\\\/a\\\\u003e\",\"truncated\":false,\"in_reply_to_status_id\":null,\"in_reply_to_status_id_str\":null,\"in_reply_to_user_id\":null,\"in_reply_to_user_id_str\":null,\"in_reply_to_screen_name\":null,\"user\":{\"id\":3068334099,\"id_str\":\"3068334099\",\"name\":\"Dylan J. Smith\",\"screen_name\":\"ZagreusAdonis\",\"location\":\"Atlanta, GA\",\"url\":null,\"description\":\"All the shine of a thousand spotlights and all the stars we steal from the nightsky will never be enough. PSN:SenatorSnazz\",\"translator_type\":\"none\",\"protected\":false,\"verified\":false,\"followers_count\":1704,\"friends_count\":799,\"listed_count\":38,\"favourites_count\":71562,\"statuses_count\":38985,\"created_at\":\"Tue Mar 03 18:27:12 +0000 2015\",\"utc_offset\":-18000,\"time_zone\":\"Eastern Time (US & Canada)\",\"geo_enabled\":true,\"lang\":\"en\",\"contributors_enabled\":false,\"is_translator\":false,\"profile_background_color\":\"000000\",\"profile_background_image_url\":\"http:\\\\/\\\\/abs.twimg.com\\\\/images\\\\/themes\\\\/theme1\\\\/bg.png\",\"profile_background_image_url_https\":\"https:\\\\/\\\\/abs.twimg.com\\\\/images\\\\/themes\\\\/theme1\\\\/bg.png\",\"profile_background_tile\":false,\"profile_link_color\":\"000000\",\"profile_sidebar_border_color\":\"000000\",\"profile_sidebar_fill_color\":\"000000\",\"profile_text_color\":\"000000\",\"profile_use_background_image\":false,\"profile_image_url\":\"http:\\\\/\\\\/pbs.twimg.com\\\\/profile_images\\\\/954600472723279873\\\\/tGiFi_0G_normal.jpg\",\"profile_image_url_https\":\"https:\\\\/\\\\/pbs.twimg.com\\\\/profile_images\\\\/954600472723279873\\\\/tGiFi_0G_normal.jpg\",\"profile_banner_url\":\"https:\\\\/\\\\/pbs.twimg.com\\\\/profile_banners\\\\/3068334099\\\\/1511988131\",\"default_profile\":false,\"default_profile_image\":false,\"following\":null,\"follow_request_sent\":null,\"notifications\":null},\"geo\":null,\"coordinates\":null,\"place\":null,\"contributors\":null,\"retweeted_status\":{\"created_at\":\"Mon Jan 22 02:15:07 +0000 2018\",\"id\":955262522013245441,\"id_str\":\"955262522013245441\",\"text\":\"The 1% grabbed 82% of all wealth created in 2017 https:\\\\/\\\\/t.co\\\\/fEHnwRDWdX https:\\\\/\\\\/t.co\\\\/qfbPXaiiFA\",\"display_text_range\":[0,72],\"source\":\"\\\\u003ca href=\\\\\"http:\\\\/\\\\/www.socialflow.com\\\\\" rel=\\\\\"nofollow\\\\\"\\\\u003eSocialFlow\\\\u003c\\\\/a\\\\u003e\",\"truncated\":false,\"in_reply_to_status_id\":null,\"in_reply_to_status_id_str\":null,\"in_reply_to_user_id\":null,\"in_reply_to_user_id_str\":null,\"in_reply_to_screen_name\":null,\"user\":{\"id\":759251,\"id_str\":\"759251\",\"name\":\"CNN\",\"screen_name\":\"CNN\",\"location\":null,\"url\":\"http:\\\\/\\\\/www.cnn.com\",\"description\":\"It\\\\u2019s our job to #GoThere & tell the most difficult stories. Join us! For more breaking news updates follow @CNNBRK  & Download our app \\\\ud83d\\\\udcf2http:\\\\/\\\\/cnn.it\\\\/apps\",\"translator_type\":\"regular\",\"protected\":false,\"verified\":true,\"followers_count\":39233124,\"friends_count\":1115,\"listed_count\":131125,\"favourites_count\":1469,\"statuses_count\":166272,\"created_at\":\"Fri Feb 09 00:35:02 +0000 2007\",\"utc_offset\":-18000,\"time_zone\":\"Eastern Time (US & Canada)\",\"geo_enabled\":true,\"lang\":\"en\",\"contributors_enabled\":false,\"is_translator\":false,\"profile_background_color\":\"323232\",\"profile_background_image_url\":\"http:\\\\/\\\\/pbs.twimg.com\\\\/profile_background_images\\\\/515228058286952449\\\\/zVfUxqPl.jpeg\",\"profile_background_image_url_https\":\"https:\\\\/\\\\/pbs.twimg.com\\\\/profile_background_images\\\\/515228058286952449\\\\/zVfUxqPl.jpeg\",\"profile_background_tile\":false,\"profile_link_color\":\"004287\",\"profile_sidebar_border_color\":\"000000\",\"profile_sidebar_fill_color\":\"EEEEEE\",\"profile_text_color\":\"000000\",\"profile_use_background_image\":false,\"profile_image_url\":\"http:\\\\/\\\\/pbs.twimg.com\\\\/profile_images\\\\/508960761826131968\\\\/LnvhR8ED_normal.png\",\"profile_image_url_https\":\"https:\\\\/\\\\/pbs.twimg.com\\\\/profile_images\\\\/508960761826131968\\\\/LnvhR8ED_normal.png\",\"profile_banner_url\":\"https:\\\\/\\\\/pbs.twimg.com\\\\/profile_banners\\\\/759251\\\\/1508752874\",\"default_profile\":false,\"default_profile_image\":false,\"following\":null,\"follow_request_sent\":null,\"notifications\":null},\"geo\":null,\"coordinates\":null,\"place\":null,\"contributors\":null,\"is_quote_status\":false,\"quote_count\":342,\"reply_count\":347,\"retweet_count\":2237,\"favorite_count\":2021,\"entities\":{\"hashtags\":[],\"urls\":[{\"url\":\"https:\\\\/\\\\/t.co\\\\/fEHnwRDWdX\",\"expanded_url\":\"http:\\\\/\\\\/cnn.it\\\\/2G3BND1\",\"display_url\":\"cnn.it\\\\/2G3BND1\",\"indices\":[49,72]}],\"user_mentions\":[],\"symbols\":[],\"media\":[{\"id\":955262519655804928,\"id_str\":\"955262519655804928\",\"indices\":[73,96],\"media_url\":\"http:\\\\/\\\\/pbs.twimg.com\\\\/media\\\\/DUHGM09UMAAUo9u.jpg\",\"media_url_https\":\"https:\\\\/\\\\/pbs.twimg.com\\\\/media\\\\/DUHGM09UMAAUo9u.jpg\",\"url\":\"https:\\\\/\\\\/t.co\\\\/qfbPXaiiFA\",\"display_url\":\"pic.twitter.com\\\\/qfbPXaiiFA\",\"expanded_url\":\"https:\\\\/\\\\/twitter.com\\\\/CNN\\\\/status\\\\/955262522013245441\\\\/photo\\\\/1\",\"type\":\"photo\",\"sizes\":{\"thumb\":{\"w\":150,\"h\":150,\"resize\":\"crop\"},\"medium\":{\"w\":780,\"h\":439,\"resize\":\"fit\"},\"large\":{\"w\":780,\"h\":439,\"resize\":\"fit\"},\"small\":{\"w\":680,\"h\":383,\"resize\":\"fit\"}}}]},\"extended_entities\":{\"media\":[{\"id\":955262519655804928,\"id_str\":\"955262519655804928\",\"indices\":[73,96],\"media_url\":\"http:\\\\/\\\\/pbs.twimg.com\\\\/media\\\\/DUHGM09UMAAUo9u.jpg\",\"media_url_https\":\"https:\\\\/\\\\/pbs.twimg.com\\\\/media\\\\/DUHGM09UMAAUo9u.jpg\",\"url\":\"https:\\\\/\\\\/t.co\\\\/qfbPXaiiFA\",\"display_url\":\"pic.twitter.com\\\\/qfbPXaiiFA\",\"expanded_url\":\"https:\\\\/\\\\/twitter.com\\\\/CNN\\\\/status\\\\/955262522013245441\\\\/photo\\\\/1\",\"type\":\"photo\",\"sizes\":{\"thumb\":{\"w\":150,\"h\":150,\"resize\":\"crop\"},\"medium\":{\"w\":780,\"h\":439,\"resize\":\"fit\"},\"large\":{\"w\":780,\"h\":439,\"resize\":\"fit\"},\"small\":{\"w\":680,\"h\":383,\"resize\":\"fit\"}}}]},\"favorited\":false,\"retweeted\":false,\"possibly_sensitive\":false,\"filter_level\":\"low\",\"lang\":\"en\"},\"is_quote_status\":false,\"quote_count\":0,\"reply_count\":0,\"retweet_count\":0,\"favorite_count\":0,\"entities\":{\"hashtags\":[],\"urls\":[{\"url\":\"https:\\\\/\\\\/t.co\\\\/fEHnwRDWdX\",\"expanded_url\":\"http:\\\\/\\\\/cnn.it\\\\/2G3BND1\",\"display_url\":\"cnn.it\\\\/2G3BND1\",\"indices\":[58,81]}],\"user_mentions\":[{\"screen_name\":\"CNN\",\"name\":\"CNN\",\"id\":759251,\"id_str\":\"759251\",\"indices\":[3,7]}],\"symbols\":[],\"media\":[{\"id\":955262519655804928,\"id_str\":\"955262519655804928\",\"indices\":[82,105],\"media_url\":\"http:\\\\/\\\\/pbs.twimg.com\\\\/media\\\\/DUHGM09UMAAUo9u.jpg\",\"media_url_https\":\"https:\\\\/\\\\/pbs.twimg.com\\\\/media\\\\/DUHGM09UMAAUo9u.jpg\",\"url\":\"https:\\\\/\\\\/t.co\\\\/qfbPXaiiFA\",\"display_url\":\"pic.twitter.com\\\\/qfbPXaiiFA\",\"expanded_url\":\"https:\\\\/\\\\/twitter.com\\\\/CNN\\\\/status\\\\/955262522013245441\\\\/photo\\\\/1\",\"type\":\"photo\",\"sizes\":{\"thumb\":{\"w\":150,\"h\":150,\"resize\":\"crop\"},\"medium\":{\"w\":780,\"h\":439,\"resize\":\"fit\"},\"large\":{\"w\":780,\"h\":439,\"resize\":\"fit\"},\"small\":{\"w\":680,\"h\":383,\"resize\":\"fit\"}},\"source_status_id\":955262522013245441,\"source_status_id_str\":\"955262522013245441\",\"source_user_id\":759251,\"source_user_id_str\":\"759251\"}]},\"extended_entities\":{\"media\":[{\"id\":955262519655804928,\"id_str\":\"955262519655804928\",\"indices\":[82,105],\"media_url\":\"http:\\\\/\\\\/pbs.twimg.com\\\\/media\\\\/DUHGM09UMAAUo9u.jpg\",\"media_url_https\":\"https:\\\\/\\\\/pbs.twimg.com\\\\/media\\\\/DUHGM09UMAAUo9u.jpg\",\"url\":\"https:\\\\/\\\\/t.co\\\\/qfbPXaiiFA\",\"display_url\":\"pic.twitter.com\\\\/qfbPXaiiFA\",\"expanded_url\":\"https:\\\\/\\\\/twitter.com\\\\/CNN\\\\/status\\\\/955262522013245441\\\\/photo\\\\/1\",\"type\":\"photo\",\"sizes\":{\"thumb\":{\"w\":150,\"h\":150,\"resize\":\"crop\"},\"medium\":{\"w\":780,\"h\":439,\"resize\":\"fit\"},\"large\":{\"w\":780,\"h\":439,\"resize\":\"fit\"},\"small\":{\"w\":680,\"h\":383,\"resize\":\"fit\"}},\"source_status_id\":955262522013245441,\"source_status_id_str\":\"955262522013245441\",\"source_user_id\":759251,\"source_user_id_str\":\"759251\"}]},\"favorited\":false,\"retweeted\":false,\"possibly_sensitive\":false,\"filter_level\":\"low\",\"lang\":\"en\",\"timestamp_ms\":\"1516613459719\"}\\r\\n',\n",
       "   'twitter_id': 955372211011051520},\n",
       "  '_type': 'tweet'},\n",
       " {'_id': 'tTY1HWEB9Wu5eUigpH3c',\n",
       "  '_index': 'twitter',\n",
       "  '_score': 1.0,\n",
       "  '_source': {'postDate': '2018-01-22T09:31:50.363Z',\n",
       "   'tweet': '{\"created_at\":\"Mon Jan 22 09:31:49 +0000 2018\",\"id\":955372420810108928,\"id_str\":\"955372420810108928\",\"text\":\"RT @calvinonline1: NO CRYPTO BANNING..The S.Korean government has announced that six major banks will be ready to provide services to crypt\\\\u2026\",\"source\":\"\\\\u003ca href=\\\\\"http:\\\\/\\\\/twitter.com\\\\/#!\\\\/download\\\\/ipad\\\\\" rel=\\\\\"nofollow\\\\\"\\\\u003eTwitter for iPad\\\\u003c\\\\/a\\\\u003e\",\"truncated\":false,\"in_reply_to_status_id\":null,\"in_reply_to_status_id_str\":null,\"in_reply_to_user_id\":null,\"in_reply_to_user_id_str\":null,\"in_reply_to_screen_name\":null,\"user\":{\"id\":2364962117,\"id_str\":\"2364962117\",\"name\":\"Leo Leka\",\"screen_name\":\"LeeoLeka\",\"location\":\"Zug, Schweiz\",\"url\":null,\"description\":null,\"translator_type\":\"none\",\"protected\":false,\"verified\":false,\"followers_count\":21,\"friends_count\":129,\"listed_count\":0,\"favourites_count\":75,\"statuses_count\":63,\"created_at\":\"Tue Feb 25 13:53:53 +0000 2014\",\"utc_offset\":null,\"time_zone\":null,\"geo_enabled\":true,\"lang\":\"de\",\"contributors_enabled\":false,\"is_translator\":false,\"profile_background_color\":\"C0DEED\",\"profile_background_image_url\":\"http:\\\\/\\\\/abs.twimg.com\\\\/images\\\\/themes\\\\/theme1\\\\/bg.png\",\"profile_background_image_url_https\":\"https:\\\\/\\\\/abs.twimg.com\\\\/images\\\\/themes\\\\/theme1\\\\/bg.png\",\"profile_background_tile\":false,\"profile_link_color\":\"1DA1F2\",\"profile_sidebar_border_color\":\"C0DEED\",\"profile_sidebar_fill_color\":\"DDEEF6\",\"profile_text_color\":\"333333\",\"profile_use_background_image\":true,\"profile_image_url\":\"http:\\\\/\\\\/pbs.twimg.com\\\\/profile_images\\\\/796361234354491392\\\\/27zec0IU_normal.jpg\",\"profile_image_url_https\":\"https:\\\\/\\\\/pbs.twimg.com\\\\/profile_images\\\\/796361234354491392\\\\/27zec0IU_normal.jpg\",\"profile_banner_url\":\"https:\\\\/\\\\/pbs.twimg.com\\\\/profile_banners\\\\/2364962117\\\\/1478702290\",\"default_profile\":true,\"default_profile_image\":false,\"following\":null,\"follow_request_sent\":null,\"notifications\":null},\"geo\":null,\"coordinates\":null,\"place\":null,\"contributors\":null,\"retweeted_status\":{\"created_at\":\"Mon Jan 22 08:03:39 +0000 2018\",\"id\":955350233017233408,\"id_str\":\"955350233017233408\",\"text\":\"NO CRYPTO BANNING..The S.Korean government has announced that six major banks will be ready to provide services to\\\\u2026 https:\\\\/\\\\/t.co\\\\/YxlSxGBEqE\",\"source\":\"\\\\u003ca href=\\\\\"http:\\\\/\\\\/twitter.com\\\\/download\\\\/android\\\\\" rel=\\\\\"nofollow\\\\\"\\\\u003eTwitter for Android\\\\u003c\\\\/a\\\\u003e\",\"truncated\":true,\"in_reply_to_status_id\":null,\"in_reply_to_status_id_str\":null,\"in_reply_to_user_id\":null,\"in_reply_to_user_id_str\":null,\"in_reply_to_screen_name\":null,\"user\":{\"id\":2334302012,\"id_str\":\"2334302012\",\"name\":\"CryptoCalvin\\\\ud83d\\\\udcc8\",\"screen_name\":\"calvinonline1\",\"location\":\"\\\\ud83c\\\\udf19\",\"url\":null,\"description\":\"Crypto Rockstar \\\\ud83c\\\\udfb8\",\"translator_type\":\"none\",\"protected\":false,\"verified\":false,\"followers_count\":17696,\"friends_count\":81,\"listed_count\":76,\"favourites_count\":31207,\"statuses_count\":1353,\"created_at\":\"Sun Feb 09 00:53:37 +0000 2014\",\"utc_offset\":-28800,\"time_zone\":\"Pacific Time (US & Canada)\",\"geo_enabled\":true,\"lang\":\"en\",\"contributors_enabled\":false,\"is_translator\":false,\"profile_background_color\":\"C0DEED\",\"profile_background_image_url\":\"http:\\\\/\\\\/abs.twimg.com\\\\/images\\\\/themes\\\\/theme1\\\\/bg.png\",\"profile_background_image_url_https\":\"https:\\\\/\\\\/abs.twimg.com\\\\/images\\\\/themes\\\\/theme1\\\\/bg.png\",\"profile_background_tile\":false,\"profile_link_color\":\"1DA1F2\",\"profile_sidebar_border_color\":\"C0DEED\",\"profile_sidebar_fill_color\":\"DDEEF6\",\"profile_text_color\":\"333333\",\"profile_use_background_image\":true,\"profile_image_url\":\"http:\\\\/\\\\/pbs.twimg.com\\\\/profile_images\\\\/943318710512529409\\\\/I9DNXA3a_normal.jpg\",\"profile_image_url_https\":\"https:\\\\/\\\\/pbs.twimg.com\\\\/profile_images\\\\/943318710512529409\\\\/I9DNXA3a_normal.jpg\",\"profile_banner_url\":\"https:\\\\/\\\\/pbs.twimg.com\\\\/profile_banners\\\\/2334302012\\\\/1516354482\",\"default_profile\":true,\"default_profile_image\":false,\"following\":null,\"follow_request_sent\":null,\"notifications\":null},\"geo\":null,\"coordinates\":null,\"place\":null,\"contributors\":null,\"is_quote_status\":false,\"extended_tweet\":{\"full_text\":\"NO CRYPTO BANNING..The S.Korean government has announced that six major banks will be ready to provide services to cryptocurrency exchanges this month. Under the new system, the government requires exchanges to share user data with banks.#BTC #ETH #XVG #XDN #LTC #trx #XLM #XRP\",\"display_text_range\":[0,277],\"entities\":{\"hashtags\":[{\"text\":\"BTC\",\"indices\":[238,242]},{\"text\":\"ETH\",\"indices\":[243,247]},{\"text\":\"XVG\",\"indices\":[248,252]},{\"text\":\"XDN\",\"indices\":[253,257]},{\"text\":\"LTC\",\"indices\":[258,262]},{\"text\":\"trx\",\"indices\":[263,267]},{\"text\":\"XLM\",\"indices\":[268,272]},{\"text\":\"XRP\",\"indices\":[273,277]}],\"urls\":[],\"user_mentions\":[],\"symbols\":[]}},\"quote_count\":9,\"reply_count\":8,\"retweet_count\":113,\"favorite_count\":233,\"entities\":{\"hashtags\":[],\"urls\":[{\"url\":\"https:\\\\/\\\\/t.co\\\\/YxlSxGBEqE\",\"expanded_url\":\"https:\\\\/\\\\/twitter.com\\\\/i\\\\/web\\\\/status\\\\/955350233017233408\",\"display_url\":\"twitter.com\\\\/i\\\\/web\\\\/status\\\\/9\\\\u2026\",\"indices\":[116,139]}],\"user_mentions\":[],\"symbols\":[]},\"favorited\":false,\"retweeted\":false,\"filter_level\":\"low\",\"lang\":\"en\"},\"is_quote_status\":false,\"quote_count\":0,\"reply_count\":0,\"retweet_count\":0,\"favorite_count\":0,\"entities\":{\"hashtags\":[],\"urls\":[],\"user_mentions\":[{\"screen_name\":\"calvinonline1\",\"name\":\"CryptoCalvin\\\\ud83d\\\\udcc8\",\"id\":2334302012,\"id_str\":\"2334302012\",\"indices\":[3,17]}],\"symbols\":[]},\"favorited\":false,\"retweeted\":false,\"filter_level\":\"low\",\"lang\":\"en\",\"timestamp_ms\":\"1516613509739\"}\\r\\n',\n",
       "   'twitter_id': 955372420810108928},\n",
       "  '_type': 'tweet'},\n",
       " {'_id': 'vDY1HWEB9Wu5eUigpn3S',\n",
       "  '_index': 'twitter',\n",
       "  '_score': 1.0,\n",
       "  '_source': {'postDate': '2018-01-22T09:31:50.866Z',\n",
       "   'tweet': '{\"created_at\":\"Mon Jan 22 09:31:50 +0000 2018\",\"id\":955372422487719936,\"id_str\":\"955372422487719936\",\"text\":\"RT @manisha__gupta: Part 3\\\\n#Luvina #VideoStory by @manisha__gupta\\\\n\\\\n#JaaneKyun #Luvina Ft.\\\\n#HinaKhan #LuvTyagi #friendship_goals\\\\n\\\\nNext parts\\\\u2026\",\"source\":\"\\\\u003ca href=\\\\\"https:\\\\/\\\\/mobile.twitter.com\\\\\" rel=\\\\\"nofollow\\\\\"\\\\u003eTwitter Lite\\\\u003c\\\\/a\\\\u003e\",\"truncated\":false,\"in_reply_to_status_id\":null,\"in_reply_to_status_id_str\":null,\"in_reply_to_user_id\":null,\"in_reply_to_user_id_str\":null,\"in_reply_to_screen_name\":null,\"user\":{\"id\":951271412597051392,\"id_str\":\"951271412597051392\",\"name\":\"Swadhwa\",\"screen_name\":\"Swadhwa14\",\"location\":\"Delhi India\",\"url\":null,\"description\":\"A Hina Khan and Vikas Gupta fan and an idiotic cricket lover\",\"translator_type\":\"none\",\"protected\":false,\"verified\":false,\"followers_count\":3,\"friends_count\":15,\"listed_count\":0,\"favourites_count\":253,\"statuses_count\":595,\"created_at\":\"Thu Jan 11 01:55:53 +0000 2018\",\"utc_offset\":null,\"time_zone\":null,\"geo_enabled\":false,\"lang\":\"en\",\"contributors_enabled\":false,\"is_translator\":false,\"profile_background_color\":\"F5F8FA\",\"profile_background_image_url\":\"\",\"profile_background_image_url_https\":\"\",\"profile_background_tile\":false,\"profile_link_color\":\"1DA1F2\",\"profile_sidebar_border_color\":\"C0DEED\",\"profile_sidebar_fill_color\":\"DDEEF6\",\"profile_text_color\":\"333333\",\"profile_use_background_image\":true,\"profile_image_url\":\"http:\\\\/\\\\/pbs.twimg.com\\\\/profile_images\\\\/954681179944370176\\\\/ctg3Dxxd_normal.jpg\",\"profile_image_url_https\":\"https:\\\\/\\\\/pbs.twimg.com\\\\/profile_images\\\\/954681179944370176\\\\/ctg3Dxxd_normal.jpg\",\"default_profile\":true,\"default_profile_image\":false,\"following\":null,\"follow_request_sent\":null,\"notifications\":null},\"geo\":null,\"coordinates\":null,\"place\":null,\"contributors\":null,\"retweeted_status\":{\"created_at\":\"Thu Jan 18 07:52:41 +0000 2018\",\"id\":953897919974789120,\"id_str\":\"953897919974789120\",\"text\":\"Part 3\\\\n#Luvina #VideoStory by @manisha__gupta\\\\n\\\\n#JaaneKyun #Luvina Ft.\\\\n#HinaKhan #LuvTyagi #friendship_goals\\\\n\\\\nNext p\\\\u2026 https:\\\\/\\\\/t.co\\\\/bHDuQxtgza\",\"display_text_range\":[0,140],\"source\":\"\\\\u003ca href=\\\\\"http:\\\\/\\\\/twitter.com\\\\/download\\\\/android\\\\\" rel=\\\\\"nofollow\\\\\"\\\\u003eTwitter for Android\\\\u003c\\\\/a\\\\u003e\",\"truncated\":true,\"in_reply_to_status_id\":952462384706170880,\"in_reply_to_status_id_str\":\"952462384706170880\",\"in_reply_to_user_id\":345823826,\"in_reply_to_user_id_str\":\"345823826\",\"in_reply_to_screen_name\":\"manisha__gupta\",\"user\":{\"id\":345823826,\"id_str\":\"345823826\",\"name\":\"Manisha ~ Hinaholic \\\\u2728\",\"screen_name\":\"manisha__gupta\",\"location\":\"India\",\"url\":null,\"description\":\"Gaaliyon se nahi, Sarcasm se Lenge sabki... \\\\ud83d\\\\ude0e\",\"translator_type\":\"none\",\"protected\":false,\"verified\":false,\"followers_count\":1752,\"friends_count\":689,\"listed_count\":7,\"favourites_count\":2328,\"statuses_count\":26712,\"created_at\":\"Sun Jul 31 06:59:49 +0000 2011\",\"utc_offset\":19800,\"time_zone\":\"Chennai\",\"geo_enabled\":true,\"lang\":\"en\",\"contributors_enabled\":false,\"is_translator\":false,\"profile_background_color\":\"000000\",\"profile_background_image_url\":\"http:\\\\/\\\\/abs.twimg.com\\\\/images\\\\/themes\\\\/theme9\\\\/bg.gif\",\"profile_background_image_url_https\":\"https:\\\\/\\\\/abs.twimg.com\\\\/images\\\\/themes\\\\/theme9\\\\/bg.gif\",\"profile_background_tile\":false,\"profile_link_color\":\"0A3DBF\",\"profile_sidebar_border_color\":\"FFFFFF\",\"profile_sidebar_fill_color\":\"DDEEF6\",\"profile_text_color\":\"333333\",\"profile_use_background_image\":true,\"profile_image_url\":\"http:\\\\/\\\\/pbs.twimg.com\\\\/profile_images\\\\/952479872009486336\\\\/smraELAD_normal.jpg\",\"profile_image_url_https\":\"https:\\\\/\\\\/pbs.twimg.com\\\\/profile_images\\\\/952479872009486336\\\\/smraELAD_normal.jpg\",\"profile_banner_url\":\"https:\\\\/\\\\/pbs.twimg.com\\\\/profile_banners\\\\/345823826\\\\/1515929264\",\"default_profile\":false,\"default_profile_image\":false,\"following\":null,\"follow_request_sent\":null,\"notifications\":null},\"geo\":null,\"coordinates\":null,\"place\":null,\"contributors\":null,\"is_quote_status\":false,\"extended_tweet\":{\"full_text\":\"Part 3\\\\n#Luvina #VideoStory by @manisha__gupta\\\\n\\\\n#JaaneKyun #Luvina Ft.\\\\n#HinaKhan #LuvTyagi #friendship_goals\\\\n\\\\nNext parts wil b uploaded in this thread!\\\\nRT\\\\ud83d\\\\udd01 Like\\\\ud83d\\\\udc93\\\\n\\\\n@eyehinakhan @LuvTyagi1204\\\\n#BB11 #BiggBoss11 Hina Luv\\\\n\\\\nPart 2 - https:\\\\/\\\\/t.co\\\\/E4ddlLk9c0 https:\\\\/\\\\/t.co\\\\/DEEwNsDZmA https:\\\\/\\\\/t.co\\\\/cCLx1cXkCi\",\"display_text_range\":[0,273],\"entities\":{\"hashtags\":[{\"text\":\"Luvina\",\"indices\":[7,14]},{\"text\":\"VideoStory\",\"indices\":[15,26]},{\"text\":\"JaaneKyun\",\"indices\":[47,57]},{\"text\":\"Luvina\",\"indices\":[58,65]},{\"text\":\"HinaKhan\",\"indices\":[70,79]},{\"text\":\"LuvTyagi\",\"indices\":[80,89]},{\"text\":\"friendship_goals\",\"indices\":[90,107]},{\"text\":\"BB11\",\"indices\":[189,194]},{\"text\":\"BiggBoss11\",\"indices\":[195,206]}],\"urls\":[],\"user_mentions\":[{\"screen_name\":\"manisha__gupta\",\"name\":\"Manisha ~ Hinaholic \\\\u2728\",\"id\":345823826,\"id_str\":\"345823826\",\"indices\":[30,45]},{\"screen_name\":\"eyehinakhan\",\"name\":\"HINA KHAN\",\"id\":3240137694,\"id_str\":\"3240137694\",\"indices\":[162,174]},{\"screen_name\":\"LuvTyagi1204\",\"name\":\"Luv Tyagi\",\"id\":931193232909729792,\"id_str\":\"931193232909729792\",\"indices\":[175,188]}],\"symbols\":[],\"media\":[{\"id\":953895802975371264,\"id_str\":\"953895802975371264\",\"indices\":[274,297],\"media_url\":\"http:\\\\/\\\\/pbs.twimg.com\\\\/ext_tw_video_thumb\\\\/953895802975371264\\\\/pu\\\\/img\\\\/huBAmJFwIgaFWWyR.jpg\",\"media_url_https\":\"https:\\\\/\\\\/pbs.twimg.com\\\\/ext_tw_video_thumb\\\\/953895802975371264\\\\/pu\\\\/img\\\\/huBAmJFwIgaFWWyR.jpg\",\"url\":\"https:\\\\/\\\\/t.co\\\\/cCLx1cXkCi\",\"display_url\":\"pic.twitter.com\\\\/cCLx1cXkCi\",\"expanded_url\":\"https:\\\\/\\\\/twitter.com\\\\/manisha__gupta\\\\/status\\\\/953897919974789120\\\\/video\\\\/1\",\"type\":\"video\",\"sizes\":{\"thumb\":{\"w\":150,\"h\":150,\"resize\":\"crop\"},\"medium\":{\"w\":1200,\"h\":675,\"resize\":\"fit\"},\"small\":{\"w\":680,\"h\":383,\"resize\":\"fit\"},\"large\":{\"w\":1280,\"h\":720,\"resize\":\"fit\"}},\"video_info\":{\"aspect_ratio\":[16,9],\"duration_millis\":139999,\"variants\":[{\"bitrate\":320000,\"content_type\":\"video\\\\/mp4\",\"url\":\"https:\\\\/\\\\/video.twimg.com\\\\/ext_tw_video\\\\/953895802975371264\\\\/pu\\\\/vid\\\\/320x180\\\\/f6Jyce48PrM0OuTZ.mp4\"},{\"bitrate\":2176000,\"content_type\":\"video\\\\/mp4\",\"url\":\"https:\\\\/\\\\/video.twimg.com\\\\/ext_tw_video\\\\/953895802975371264\\\\/pu\\\\/vid\\\\/1280x720\\\\/vJXDxFGBRbCJrE1q.mp4\"},{\"content_type\":\"application\\\\/x-mpegURL\",\"url\":\"https:\\\\/\\\\/video.twimg.com\\\\/ext_tw_video\\\\/953895802975371264\\\\/pu\\\\/pl\\\\/Xk5lURzIidIJKlfC.m3u8\"},{\"bitrate\":832000,\"content_type\":\"video\\\\/mp4\",\"url\":\"https:\\\\/\\\\/video.twimg.com\\\\/ext_tw_video\\\\/953895802975371264\\\\/pu\\\\/vid\\\\/640x360\\\\/wNkz59pE-gB5MzQ-.mp4\"}]}},{\"id\":952460343967588352,\"id_str\":\"952460343967588352\",\"indices\":[226,249],\"media_url\":\"http:\\\\/\\\\/pbs.twimg.com\\\\/ext_tw_video_thumb\\\\/952460343967588352\\\\/pu\\\\/img\\\\/02QIqnjcWQneQ9zx.jpg\",\"media_url_https\":\"https:\\\\/\\\\/pbs.twimg.com\\\\/ext_tw_video_thumb\\\\/952460343967588352\\\\/pu\\\\/img\\\\/02QIqnjcWQneQ9zx.jpg\",\"url\":\"https:\\\\/\\\\/t.co\\\\/E4ddlLk9c0\",\"display_url\":\"pic.twitter.com\\\\/E4ddlLk9c0\",\"expanded_url\":\"https:\\\\/\\\\/twitter.com\\\\/manisha__gupta\\\\/status\\\\/952462384706170880\\\\/video\\\\/1\",\"type\":\"video\",\"sizes\":{\"thumb\":{\"w\":150,\"h\":150,\"resize\":\"crop\"},\"medium\":{\"w\":1200,\"h\":675,\"resize\":\"fit\"},\"small\":{\"w\":680,\"h\":383,\"resize\":\"fit\"},\"large\":{\"w\":1280,\"h\":720,\"resize\":\"fit\"}},\"source_status_id\":952462384706170880,\"source_status_id_str\":\"952462384706170880\",\"source_user_id\":345823826,\"source_user_id_str\":\"345823826\",\"video_info\":{\"aspect_ratio\":[16,9],\"duration_millis\":139999,\"variants\":[{\"bitrate\":320000,\"content_type\":\"video\\\\/mp4\",\"url\":\"https:\\\\/\\\\/video.twimg.com\\\\/ext_tw_video\\\\/952460343967588352\\\\/pu\\\\/vid\\\\/320x180\\\\/zHpitGj_7su61hfa.mp4\"},{\"bitrate\":2176000,\"content_type\":\"video\\\\/mp4\",\"url\":\"https:\\\\/\\\\/video.twimg.com\\\\/ext_tw_video\\\\/952460343967588352\\\\/pu\\\\/vid\\\\/1280x720\\\\/_9lBbiSYw5IhA8Aj.mp4\"},{\"content_type\":\"application\\\\/x-mpegURL\",\"url\":\"https:\\\\/\\\\/video.twimg.com\\\\/ext_tw_video\\\\/952460343967588352\\\\/pu\\\\/pl\\\\/pfvo2vGSK8L2b5Nb.m3u8\"},{\"bitrate\":832000,\"content_type\":\"video\\\\/mp4\",\"url\":\"https:\\\\/\\\\/video.twimg.com\\\\/ext_tw_video\\\\/952460343967588352\\\\/pu\\\\/vid\\\\/640x360\\\\/axFZCKGzvRi_kITh.mp4\"}]}},{\"id\":953513742372777984,\"id_str\":\"953513742372777984\",\"indices\":[250,273],\"media_url\":\"http:\\\\/\\\\/pbs.twimg.com\\\\/ext_tw_video_thumb\\\\/953513742372777984\\\\/pu\\\\/img\\\\/npY9KGRdIBG4VD8R.jpg\",\"media_url_https\":\"https:\\\\/\\\\/pbs.twimg.com\\\\/ext_tw_video_thumb\\\\/953513742372777984\\\\/pu\\\\/img\\\\/npY9KGRdIBG4VD8R.jpg\",\"url\":\"https:\\\\/\\\\/t.co\\\\/DEEwNsDZmA\",\"display_url\":\"pic.twitter.com\\\\/DEEwNsDZmA\",\"expanded_url\":\"https:\\\\/\\\\/twitter.com\\\\/manisha__gupta\\\\/status\\\\/953516076469383168\\\\/video\\\\/1\",\"type\":\"video\",\"sizes\":{\"thumb\":{\"w\":150,\"h\":150,\"resize\":\"crop\"},\"medium\":{\"w\":1200,\"h\":675,\"resize\":\"fit\"},\"small\":{\"w\":680,\"h\":383,\"resize\":\"fit\"},\"large\":{\"w\":1280,\"h\":720,\"resize\":\"fit\"}},\"source_status_id\":953516076469383168,\"source_status_id_str\":\"953516076469383168\",\"source_user_id\":345823826,\"source_user_id_str\":\"345823826\",\"video_info\":{\"aspect_ratio\":[16,9],\"duration_millis\":139999,\"variants\":[{\"bitrate\":832000,\"content_type\":\"video\\\\/mp4\",\"url\":\"https:\\\\/\\\\/video.twimg.com\\\\/ext_tw_video\\\\/953513742372777984\\\\/pu\\\\/vid\\\\/640x360\\\\/XFDNjjzornkHir3d.mp4\"},{\"bitrate\":2176000,\"content_type\":\"video\\\\/mp4\",\"url\":\"https:\\\\/\\\\/video.twimg.com\\\\/ext_tw_video\\\\/953513742372777984\\\\/pu\\\\/vid\\\\/1280x720\\\\/LZB58ZWDfEtCoD0M.mp4\"},{\"bitrate\":320000,\"content_type\":\"video\\\\/mp4\",\"url\":\"https:\\\\/\\\\/video.twimg.com\\\\/ext_tw_video\\\\/953513742372777984\\\\/pu\\\\/vid\\\\/320x180\\\\/ZuqZ7w3AYTcG4RNT.mp4\"},{\"content_type\":\"application\\\\/x-mpegURL\",\"url\":\"https:\\\\/\\\\/video.twimg.com\\\\/ext_tw_video\\\\/953513742372777984\\\\/pu\\\\/pl\\\\/Ygx3_3v0PU6a3ReG.m3u8\"}]}}]},\"extended_entities\":{\"media\":[{\"id\":953895802975371264,\"id_str\":\"953895802975371264\",\"indices\":[274,297],\"media_url\":\"http:\\\\/\\\\/pbs.twimg.com\\\\/ext_tw_video_thumb\\\\/953895802975371264\\\\/pu\\\\/img\\\\/huBAmJFwIgaFWWyR.jpg\",\"media_url_https\":\"https:\\\\/\\\\/pbs.twimg.com\\\\/ext_tw_video_thumb\\\\/953895802975371264\\\\/pu\\\\/img\\\\/huBAmJFwIgaFWWyR.jpg\",\"url\":\"https:\\\\/\\\\/t.co\\\\/cCLx1cXkCi\",\"display_url\":\"pic.twitter.com\\\\/cCLx1cXkCi\",\"expanded_url\":\"https:\\\\/\\\\/twitter.com\\\\/manisha__gupta\\\\/status\\\\/953897919974789120\\\\/video\\\\/1\",\"type\":\"video\",\"sizes\":{\"thumb\":{\"w\":150,\"h\":150,\"resize\":\"crop\"},\"medium\":{\"w\":1200,\"h\":675,\"resize\":\"fit\"},\"small\":{\"w\":680,\"h\":383,\"resize\":\"fit\"},\"large\":{\"w\":1280,\"h\":720,\"resize\":\"fit\"}},\"video_info\":{\"aspect_ratio\":[16,9],\"duration_millis\":139999,\"variants\":[{\"bitrate\":320000,\"content_type\":\"video\\\\/mp4\",\"url\":\"https:\\\\/\\\\/video.twimg.com\\\\/ext_tw_video\\\\/953895802975371264\\\\/pu\\\\/vid\\\\/320x180\\\\/f6Jyce48PrM0OuTZ.mp4\"},{\"bitrate\":2176000,\"content_type\":\"video\\\\/mp4\",\"url\":\"https:\\\\/\\\\/video.twimg.com\\\\/ext_tw_video\\\\/953895802975371264\\\\/pu\\\\/vid\\\\/1280x720\\\\/vJXDxFGBRbCJrE1q.mp4\"},{\"content_type\":\"application\\\\/x-mpegURL\",\"url\":\"https:\\\\/\\\\/video.twimg.com\\\\/ext_tw_video\\\\/953895802975371264\\\\/pu\\\\/pl\\\\/Xk5lURzIidIJKlfC.m3u8\"},{\"bitrate\":832000,\"content_type\":\"video\\\\/mp4\",\"url\":\"https:\\\\/\\\\/video.twimg.com\\\\/ext_tw_video\\\\/953895802975371264\\\\/pu\\\\/vid\\\\/640x360\\\\/wNkz59pE-gB5MzQ-.mp4\"}]}},{\"id\":952460343967588352,\"id_str\":\"952460343967588352\",\"indices\":[226,249],\"media_url\":\"http:\\\\/\\\\/pbs.twimg.com\\\\/ext_tw_video_thumb\\\\/952460343967588352\\\\/pu\\\\/img\\\\/02QIqnjcWQneQ9zx.jpg\",\"media_url_https\":\"https:\\\\/\\\\/pbs.twimg.com\\\\/ext_tw_video_thumb\\\\/952460343967588352\\\\/pu\\\\/img\\\\/02QIqnjcWQneQ9zx.jpg\",\"url\":\"https:\\\\/\\\\/t.co\\\\/E4ddlLk9c0\",\"display_url\":\"pic.twitter.com\\\\/E4ddlLk9c0\",\"expanded_url\":\"https:\\\\/\\\\/twitter.com\\\\/manisha__gupta\\\\/status\\\\/952462384706170880\\\\/video\\\\/1\",\"type\":\"video\",\"sizes\":{\"thumb\":{\"w\":150,\"h\":150,\"resize\":\"crop\"},\"medium\":{\"w\":1200,\"h\":675,\"resize\":\"fit\"},\"small\":{\"w\":680,\"h\":383,\"resize\":\"fit\"},\"large\":{\"w\":1280,\"h\":720,\"resize\":\"fit\"}},\"source_status_id\":952462384706170880,\"source_status_id_str\":\"952462384706170880\",\"source_user_id\":345823826,\"source_user_id_str\":\"345823826\",\"video_info\":{\"aspect_ratio\":[16,9],\"duration_millis\":139999,\"variants\":[{\"bitrate\":320000,\"content_type\":\"video\\\\/mp4\",\"url\":\"https:\\\\/\\\\/video.twimg.com\\\\/ext_tw_video\\\\/952460343967588352\\\\/pu\\\\/vid\\\\/320x180\\\\/zHpitGj_7su61hfa.mp4\"},{\"bitrate\":2176000,\"content_type\":\"video\\\\/mp4\",\"url\":\"https:\\\\/\\\\/video.twimg.com\\\\/ext_tw_video\\\\/952460343967588352\\\\/pu\\\\/vid\\\\/1280x720\\\\/_9lBbiSYw5IhA8Aj.mp4\"},{\"content_type\":\"application\\\\/x-mpegURL\",\"url\":\"https:\\\\/\\\\/video.twimg.com\\\\/ext_tw_video\\\\/952460343967588352\\\\/pu\\\\/pl\\\\/pfvo2vGSK8L2b5Nb.m3u8\"},{\"bitrate\":832000,\"content_type\":\"video\\\\/mp4\",\"url\":\"https:\\\\/\\\\/video.twimg.com\\\\/ext_tw_video\\\\/952460343967588352\\\\/pu\\\\/vid\\\\/640x360\\\\/axFZCKGzvRi_kITh.mp4\"}]}},{\"id\":953513742372777984,\"id_str\":\"953513742372777984\",\"indices\":[250,273],\"media_url\":\"http:\\\\/\\\\/pbs.twimg.com\\\\/ext_tw_video_thumb\\\\/953513742372777984\\\\/pu\\\\/img\\\\/npY9KGRdIBG4VD8R.jpg\",\"media_url_https\":\"https:\\\\/\\\\/pbs.twimg.com\\\\/ext_tw_video_thumb\\\\/953513742372777984\\\\/pu\\\\/img\\\\/npY9KGRdIBG4VD8R.jpg\",\"url\":\"https:\\\\/\\\\/t.co\\\\/DEEwNsDZmA\",\"display_url\":\"pic.twitter.com\\\\/DEEwNsDZmA\",\"expanded_url\":\"https:\\\\/\\\\/twitter.com\\\\/manisha__gupta\\\\/status\\\\/953516076469383168\\\\/video\\\\/1\",\"type\":\"video\",\"sizes\":{\"thumb\":{\"w\":150,\"h\":150,\"resize\":\"crop\"},\"medium\":{\"w\":1200,\"h\":675,\"resize\":\"fit\"},\"small\":{\"w\":680,\"h\":383,\"resize\":\"fit\"},\"large\":{\"w\":1280,\"h\":720,\"resize\":\"fit\"}},\"source_status_id\":953516076469383168,\"source_status_id_str\":\"953516076469383168\",\"source_user_id\":345823826,\"source_user_id_str\":\"345823826\",\"video_info\":{\"aspect_ratio\":[16,9],\"duration_millis\":139999,\"variants\":[{\"bitrate\":832000,\"content_type\":\"video\\\\/mp4\",\"url\":\"https:\\\\/\\\\/video.twimg.com\\\\/ext_tw_video\\\\/953513742372777984\\\\/pu\\\\/vid\\\\/640x360\\\\/XFDNjjzornkHir3d.mp4\"},{\"bitrate\":2176000,\"content_type\":\"video\\\\/mp4\",\"url\":\"https:\\\\/\\\\/video.twimg.com\\\\/ext_tw_video\\\\/953513742372777984\\\\/pu\\\\/vid\\\\/1280x720\\\\/LZB58ZWDfEtCoD0M.mp4\"},{\"bitrate\":320000,\"content_type\":\"video\\\\/mp4\",\"url\":\"https:\\\\/\\\\/video.twimg.com\\\\/ext_tw_video\\\\/953513742372777984\\\\/pu\\\\/vid\\\\/320x180\\\\/ZuqZ7w3AYTcG4RNT.mp4\"},{\"content_type\":\"application\\\\/x-mpegURL\",\"url\":\"https:\\\\/\\\\/video.twimg.com\\\\/ext_tw_video\\\\/953513742372777984\\\\/pu\\\\/pl\\\\/Ygx3_3v0PU6a3ReG.m3u8\"}]}}]}},\"quote_count\":3,\"reply_count\":39,\"retweet_count\":157,\"favorite_count\":271,\"entities\":{\"hashtags\":[{\"text\":\"Luvina\",\"indices\":[7,14]},{\"text\":\"VideoStory\",\"indices\":[15,26]},{\"text\":\"JaaneKyun\",\"indices\":[47,57]},{\"text\":\"Luvina\",\"indices\":[58,65]},{\"text\":\"HinaKhan\",\"indices\":[70,79]},{\"text\":\"LuvTyagi\",\"indices\":[80,89]},{\"text\":\"friendship_goals\",\"indices\":[90,107]}],\"urls\":[{\"url\":\"https:\\\\/\\\\/t.co\\\\/bHDuQxtgza\",\"expanded_url\":\"https:\\\\/\\\\/twitter.com\\\\/i\\\\/web\\\\/status\\\\/953897919974789120\",\"display_url\":\"twitter.com\\\\/i\\\\/web\\\\/status\\\\/9\\\\u2026\",\"indices\":[117,140]}],\"user_mentions\":[{\"screen_name\":\"manisha__gupta\",\"name\":\"Manisha ~ Hinaholic \\\\u2728\",\"id\":345823826,\"id_str\":\"345823826\",\"indices\":[30,45]}],\"symbols\":[]},\"favorited\":false,\"retweeted\":false,\"possibly_sensitive\":false,\"filter_level\":\"low\",\"lang\":\"en\"},\"is_quote_status\":false,\"quote_count\":0,\"reply_count\":0,\"retweet_count\":0,\"favorite_count\":0,\"entities\":{\"hashtags\":[{\"text\":\"Luvina\",\"indices\":[27,34]},{\"text\":\"VideoStory\",\"indices\":[35,46]},{\"text\":\"JaaneKyun\",\"indices\":[67,77]},{\"text\":\"Luvina\",\"indices\":[78,85]},{\"text\":\"HinaKhan\",\"indices\":[90,99]},{\"text\":\"LuvTyagi\",\"indices\":[100,109]},{\"text\":\"friendship_goals\",\"indices\":[110,127]}],\"urls\":[],\"user_mentions\":[{\"screen_name\":\"manisha__gupta\",\"name\":\"Manisha ~ Hinaholic \\\\u2728\",\"id\":345823826,\"id_str\":\"345823826\",\"indices\":[3,18]},{\"screen_name\":\"manisha__gupta\",\"name\":\"Manisha ~ Hinaholic \\\\u2728\",\"id\":345823826,\"id_str\":\"345823826\",\"indices\":[50,65]}],\"symbols\":[]},\"favorited\":false,\"retweeted\":false,\"filter_level\":\"low\",\"lang\":\"en\",\"timestamp_ms\":\"1516613510139\"}\\r\\n',\n",
       "   'twitter_id': 955372422487719936},\n",
       "  '_type': 'tweet'},\n",
       " {'_id': 'qzY1HWEB9Wu5eUigoH3r',\n",
       "  '_index': 'twitter',\n",
       "  '_score': 1.0,\n",
       "  '_source': {'postDate': '2018-01-22T09:31:49.355Z',\n",
       "   'tweet': '{\"created_at\":\"Mon Jan 22 09:31:48 +0000 2018\",\"id\":955372415583858689,\"id_str\":\"955372415583858689\",\"text\":\"RT @manisha__gupta: Part 3\\\\n#Luvina #VideoStory by @manisha__gupta\\\\n\\\\n#JaaneKyun #Luvina Ft.\\\\n#HinaKhan #LuvTyagi #friendship_goals\\\\n\\\\nNext parts\\\\u2026\",\"source\":\"\\\\u003ca href=\\\\\"http:\\\\/\\\\/twitter.com\\\\/download\\\\/android\\\\\" rel=\\\\\"nofollow\\\\\"\\\\u003eTwitter for Android\\\\u003c\\\\/a\\\\u003e\",\"truncated\":false,\"in_reply_to_status_id\":null,\"in_reply_to_status_id_str\":null,\"in_reply_to_user_id\":null,\"in_reply_to_user_id_str\":null,\"in_reply_to_screen_name\":null,\"user\":{\"id\":949616747753197568,\"id_str\":\"949616747753197568\",\"name\":\"Pratyusha\",\"screen_name\":\"Pratyugonemad\",\"location\":\"\\\\u0906\\\\u0902\\\\u0927\\\\u094d\\\\u0930 \\\\u092a\\\\u094d\\\\u0930\\\\u0926\\\\u0947\\\\u0936, \\\\u092d\\\\u093e\\\\u0930\\\\u0924\",\"url\":null,\"description\":\"Simplicity \\\\ud83d\\\\ude0d\\\\ud83d\\\\ude0e\\\\ud83d\\\\udc7c\",\"translator_type\":\"none\",\"protected\":false,\"verified\":false,\"followers_count\":6,\"friends_count\":14,\"listed_count\":0,\"favourites_count\":456,\"statuses_count\":243,\"created_at\":\"Sat Jan 06 12:20:50 +0000 2018\",\"utc_offset\":null,\"time_zone\":null,\"geo_enabled\":false,\"lang\":\"en\",\"contributors_enabled\":false,\"is_translator\":false,\"profile_background_color\":\"F5F8FA\",\"profile_background_image_url\":\"\",\"profile_background_image_url_https\":\"\",\"profile_background_tile\":false,\"profile_link_color\":\"1DA1F2\",\"profile_sidebar_border_color\":\"C0DEED\",\"profile_sidebar_fill_color\":\"DDEEF6\",\"profile_text_color\":\"333333\",\"profile_use_background_image\":true,\"profile_image_url\":\"http:\\\\/\\\\/pbs.twimg.com\\\\/profile_images\\\\/949734593925533698\\\\/0B0Z3kYJ_normal.jpg\",\"profile_image_url_https\":\"https:\\\\/\\\\/pbs.twimg.com\\\\/profile_images\\\\/949734593925533698\\\\/0B0Z3kYJ_normal.jpg\",\"default_profile\":true,\"default_profile_image\":false,\"following\":null,\"follow_request_sent\":null,\"notifications\":null},\"geo\":null,\"coordinates\":null,\"place\":null,\"contributors\":null,\"retweeted_status\":{\"created_at\":\"Thu Jan 18 07:52:41 +0000 2018\",\"id\":953897919974789120,\"id_str\":\"953897919974789120\",\"text\":\"Part 3\\\\n#Luvina #VideoStory by @manisha__gupta\\\\n\\\\n#JaaneKyun #Luvina Ft.\\\\n#HinaKhan #LuvTyagi #friendship_goals\\\\n\\\\nNext p\\\\u2026 https:\\\\/\\\\/t.co\\\\/bHDuQxtgza\",\"display_text_range\":[0,140],\"source\":\"\\\\u003ca href=\\\\\"http:\\\\/\\\\/twitter.com\\\\/download\\\\/android\\\\\" rel=\\\\\"nofollow\\\\\"\\\\u003eTwitter for Android\\\\u003c\\\\/a\\\\u003e\",\"truncated\":true,\"in_reply_to_status_id\":952462384706170880,\"in_reply_to_status_id_str\":\"952462384706170880\",\"in_reply_to_user_id\":345823826,\"in_reply_to_user_id_str\":\"345823826\",\"in_reply_to_screen_name\":\"manisha__gupta\",\"user\":{\"id\":345823826,\"id_str\":\"345823826\",\"name\":\"Manisha ~ Hinaholic \\\\u2728\",\"screen_name\":\"manisha__gupta\",\"location\":\"India\",\"url\":null,\"description\":\"Gaaliyon se nahi, Sarcasm se Lenge sabki... \\\\ud83d\\\\ude0e\",\"translator_type\":\"none\",\"protected\":false,\"verified\":false,\"followers_count\":1752,\"friends_count\":689,\"listed_count\":7,\"favourites_count\":2328,\"statuses_count\":26712,\"created_at\":\"Sun Jul 31 06:59:49 +0000 2011\",\"utc_offset\":19800,\"time_zone\":\"Chennai\",\"geo_enabled\":true,\"lang\":\"en\",\"contributors_enabled\":false,\"is_translator\":false,\"profile_background_color\":\"000000\",\"profile_background_image_url\":\"http:\\\\/\\\\/abs.twimg.com\\\\/images\\\\/themes\\\\/theme9\\\\/bg.gif\",\"profile_background_image_url_https\":\"https:\\\\/\\\\/abs.twimg.com\\\\/images\\\\/themes\\\\/theme9\\\\/bg.gif\",\"profile_background_tile\":false,\"profile_link_color\":\"0A3DBF\",\"profile_sidebar_border_color\":\"FFFFFF\",\"profile_sidebar_fill_color\":\"DDEEF6\",\"profile_text_color\":\"333333\",\"profile_use_background_image\":true,\"profile_image_url\":\"http:\\\\/\\\\/pbs.twimg.com\\\\/profile_images\\\\/952479872009486336\\\\/smraELAD_normal.jpg\",\"profile_image_url_https\":\"https:\\\\/\\\\/pbs.twimg.com\\\\/profile_images\\\\/952479872009486336\\\\/smraELAD_normal.jpg\",\"profile_banner_url\":\"https:\\\\/\\\\/pbs.twimg.com\\\\/profile_banners\\\\/345823826\\\\/1515929264\",\"default_profile\":false,\"default_profile_image\":false,\"following\":null,\"follow_request_sent\":null,\"notifications\":null},\"geo\":null,\"coordinates\":null,\"place\":null,\"contributors\":null,\"is_quote_status\":false,\"extended_tweet\":{\"full_text\":\"Part 3\\\\n#Luvina #VideoStory by @manisha__gupta\\\\n\\\\n#JaaneKyun #Luvina Ft.\\\\n#HinaKhan #LuvTyagi #friendship_goals\\\\n\\\\nNext parts wil b uploaded in this thread!\\\\nRT\\\\ud83d\\\\udd01 Like\\\\ud83d\\\\udc93\\\\n\\\\n@eyehinakhan @LuvTyagi1204\\\\n#BB11 #BiggBoss11 Hina Luv\\\\n\\\\nPart 2 - https:\\\\/\\\\/t.co\\\\/E4ddlLk9c0 https:\\\\/\\\\/t.co\\\\/DEEwNsDZmA https:\\\\/\\\\/t.co\\\\/cCLx1cXkCi\",\"display_text_range\":[0,273],\"entities\":{\"hashtags\":[{\"text\":\"Luvina\",\"indices\":[7,14]},{\"text\":\"VideoStory\",\"indices\":[15,26]},{\"text\":\"JaaneKyun\",\"indices\":[47,57]},{\"text\":\"Luvina\",\"indices\":[58,65]},{\"text\":\"HinaKhan\",\"indices\":[70,79]},{\"text\":\"LuvTyagi\",\"indices\":[80,89]},{\"text\":\"friendship_goals\",\"indices\":[90,107]},{\"text\":\"BB11\",\"indices\":[189,194]},{\"text\":\"BiggBoss11\",\"indices\":[195,206]}],\"urls\":[],\"user_mentions\":[{\"screen_name\":\"manisha__gupta\",\"name\":\"Manisha ~ Hinaholic \\\\u2728\",\"id\":345823826,\"id_str\":\"345823826\",\"indices\":[30,45]},{\"screen_name\":\"eyehinakhan\",\"name\":\"HINA KHAN\",\"id\":3240137694,\"id_str\":\"3240137694\",\"indices\":[162,174]},{\"screen_name\":\"LuvTyagi1204\",\"name\":\"Luv Tyagi\",\"id\":931193232909729792,\"id_str\":\"931193232909729792\",\"indices\":[175,188]}],\"symbols\":[],\"media\":[{\"id\":953895802975371264,\"id_str\":\"953895802975371264\",\"indices\":[274,297],\"media_url\":\"http:\\\\/\\\\/pbs.twimg.com\\\\/ext_tw_video_thumb\\\\/953895802975371264\\\\/pu\\\\/img\\\\/huBAmJFwIgaFWWyR.jpg\",\"media_url_https\":\"https:\\\\/\\\\/pbs.twimg.com\\\\/ext_tw_video_thumb\\\\/953895802975371264\\\\/pu\\\\/img\\\\/huBAmJFwIgaFWWyR.jpg\",\"url\":\"https:\\\\/\\\\/t.co\\\\/cCLx1cXkCi\",\"display_url\":\"pic.twitter.com\\\\/cCLx1cXkCi\",\"expanded_url\":\"https:\\\\/\\\\/twitter.com\\\\/manisha__gupta\\\\/status\\\\/953897919974789120\\\\/video\\\\/1\",\"type\":\"video\",\"sizes\":{\"thumb\":{\"w\":150,\"h\":150,\"resize\":\"crop\"},\"medium\":{\"w\":1200,\"h\":675,\"resize\":\"fit\"},\"small\":{\"w\":680,\"h\":383,\"resize\":\"fit\"},\"large\":{\"w\":1280,\"h\":720,\"resize\":\"fit\"}},\"video_info\":{\"aspect_ratio\":[16,9],\"duration_millis\":139999,\"variants\":[{\"bitrate\":320000,\"content_type\":\"video\\\\/mp4\",\"url\":\"https:\\\\/\\\\/video.twimg.com\\\\/ext_tw_video\\\\/953895802975371264\\\\/pu\\\\/vid\\\\/320x180\\\\/f6Jyce48PrM0OuTZ.mp4\"},{\"bitrate\":2176000,\"content_type\":\"video\\\\/mp4\",\"url\":\"https:\\\\/\\\\/video.twimg.com\\\\/ext_tw_video\\\\/953895802975371264\\\\/pu\\\\/vid\\\\/1280x720\\\\/vJXDxFGBRbCJrE1q.mp4\"},{\"content_type\":\"application\\\\/x-mpegURL\",\"url\":\"https:\\\\/\\\\/video.twimg.com\\\\/ext_tw_video\\\\/953895802975371264\\\\/pu\\\\/pl\\\\/Xk5lURzIidIJKlfC.m3u8\"},{\"bitrate\":832000,\"content_type\":\"video\\\\/mp4\",\"url\":\"https:\\\\/\\\\/video.twimg.com\\\\/ext_tw_video\\\\/953895802975371264\\\\/pu\\\\/vid\\\\/640x360\\\\/wNkz59pE-gB5MzQ-.mp4\"}]}},{\"id\":952460343967588352,\"id_str\":\"952460343967588352\",\"indices\":[226,249],\"media_url\":\"http:\\\\/\\\\/pbs.twimg.com\\\\/ext_tw_video_thumb\\\\/952460343967588352\\\\/pu\\\\/img\\\\/02QIqnjcWQneQ9zx.jpg\",\"media_url_https\":\"https:\\\\/\\\\/pbs.twimg.com\\\\/ext_tw_video_thumb\\\\/952460343967588352\\\\/pu\\\\/img\\\\/02QIqnjcWQneQ9zx.jpg\",\"url\":\"https:\\\\/\\\\/t.co\\\\/E4ddlLk9c0\",\"display_url\":\"pic.twitter.com\\\\/E4ddlLk9c0\",\"expanded_url\":\"https:\\\\/\\\\/twitter.com\\\\/manisha__gupta\\\\/status\\\\/952462384706170880\\\\/video\\\\/1\",\"type\":\"video\",\"sizes\":{\"thumb\":{\"w\":150,\"h\":150,\"resize\":\"crop\"},\"medium\":{\"w\":1200,\"h\":675,\"resize\":\"fit\"},\"small\":{\"w\":680,\"h\":383,\"resize\":\"fit\"},\"large\":{\"w\":1280,\"h\":720,\"resize\":\"fit\"}},\"source_status_id\":952462384706170880,\"source_status_id_str\":\"952462384706170880\",\"source_user_id\":345823826,\"source_user_id_str\":\"345823826\",\"video_info\":{\"aspect_ratio\":[16,9],\"duration_millis\":139999,\"variants\":[{\"bitrate\":320000,\"content_type\":\"video\\\\/mp4\",\"url\":\"https:\\\\/\\\\/video.twimg.com\\\\/ext_tw_video\\\\/952460343967588352\\\\/pu\\\\/vid\\\\/320x180\\\\/zHpitGj_7su61hfa.mp4\"},{\"bitrate\":2176000,\"content_type\":\"video\\\\/mp4\",\"url\":\"https:\\\\/\\\\/video.twimg.com\\\\/ext_tw_video\\\\/952460343967588352\\\\/pu\\\\/vid\\\\/1280x720\\\\/_9lBbiSYw5IhA8Aj.mp4\"},{\"content_type\":\"application\\\\/x-mpegURL\",\"url\":\"https:\\\\/\\\\/video.twimg.com\\\\/ext_tw_video\\\\/952460343967588352\\\\/pu\\\\/pl\\\\/pfvo2vGSK8L2b5Nb.m3u8\"},{\"bitrate\":832000,\"content_type\":\"video\\\\/mp4\",\"url\":\"https:\\\\/\\\\/video.twimg.com\\\\/ext_tw_video\\\\/952460343967588352\\\\/pu\\\\/vid\\\\/640x360\\\\/axFZCKGzvRi_kITh.mp4\"}]}},{\"id\":953513742372777984,\"id_str\":\"953513742372777984\",\"indices\":[250,273],\"media_url\":\"http:\\\\/\\\\/pbs.twimg.com\\\\/ext_tw_video_thumb\\\\/953513742372777984\\\\/pu\\\\/img\\\\/npY9KGRdIBG4VD8R.jpg\",\"media_url_https\":\"https:\\\\/\\\\/pbs.twimg.com\\\\/ext_tw_video_thumb\\\\/953513742372777984\\\\/pu\\\\/img\\\\/npY9KGRdIBG4VD8R.jpg\",\"url\":\"https:\\\\/\\\\/t.co\\\\/DEEwNsDZmA\",\"display_url\":\"pic.twitter.com\\\\/DEEwNsDZmA\",\"expanded_url\":\"https:\\\\/\\\\/twitter.com\\\\/manisha__gupta\\\\/status\\\\/953516076469383168\\\\/video\\\\/1\",\"type\":\"video\",\"sizes\":{\"thumb\":{\"w\":150,\"h\":150,\"resize\":\"crop\"},\"medium\":{\"w\":1200,\"h\":675,\"resize\":\"fit\"},\"small\":{\"w\":680,\"h\":383,\"resize\":\"fit\"},\"large\":{\"w\":1280,\"h\":720,\"resize\":\"fit\"}},\"source_status_id\":953516076469383168,\"source_status_id_str\":\"953516076469383168\",\"source_user_id\":345823826,\"source_user_id_str\":\"345823826\",\"video_info\":{\"aspect_ratio\":[16,9],\"duration_millis\":139999,\"variants\":[{\"bitrate\":832000,\"content_type\":\"video\\\\/mp4\",\"url\":\"https:\\\\/\\\\/video.twimg.com\\\\/ext_tw_video\\\\/953513742372777984\\\\/pu\\\\/vid\\\\/640x360\\\\/XFDNjjzornkHir3d.mp4\"},{\"bitrate\":2176000,\"content_type\":\"video\\\\/mp4\",\"url\":\"https:\\\\/\\\\/video.twimg.com\\\\/ext_tw_video\\\\/953513742372777984\\\\/pu\\\\/vid\\\\/1280x720\\\\/LZB58ZWDfEtCoD0M.mp4\"},{\"bitrate\":320000,\"content_type\":\"video\\\\/mp4\",\"url\":\"https:\\\\/\\\\/video.twimg.com\\\\/ext_tw_video\\\\/953513742372777984\\\\/pu\\\\/vid\\\\/320x180\\\\/ZuqZ7w3AYTcG4RNT.mp4\"},{\"content_type\":\"application\\\\/x-mpegURL\",\"url\":\"https:\\\\/\\\\/video.twimg.com\\\\/ext_tw_video\\\\/953513742372777984\\\\/pu\\\\/pl\\\\/Ygx3_3v0PU6a3ReG.m3u8\"}]}}]},\"extended_entities\":{\"media\":[{\"id\":953895802975371264,\"id_str\":\"953895802975371264\",\"indices\":[274,297],\"media_url\":\"http:\\\\/\\\\/pbs.twimg.com\\\\/ext_tw_video_thumb\\\\/953895802975371264\\\\/pu\\\\/img\\\\/huBAmJFwIgaFWWyR.jpg\",\"media_url_https\":\"https:\\\\/\\\\/pbs.twimg.com\\\\/ext_tw_video_thumb\\\\/953895802975371264\\\\/pu\\\\/img\\\\/huBAmJFwIgaFWWyR.jpg\",\"url\":\"https:\\\\/\\\\/t.co\\\\/cCLx1cXkCi\",\"display_url\":\"pic.twitter.com\\\\/cCLx1cXkCi\",\"expanded_url\":\"https:\\\\/\\\\/twitter.com\\\\/manisha__gupta\\\\/status\\\\/953897919974789120\\\\/video\\\\/1\",\"type\":\"video\",\"sizes\":{\"thumb\":{\"w\":150,\"h\":150,\"resize\":\"crop\"},\"medium\":{\"w\":1200,\"h\":675,\"resize\":\"fit\"},\"small\":{\"w\":680,\"h\":383,\"resize\":\"fit\"},\"large\":{\"w\":1280,\"h\":720,\"resize\":\"fit\"}},\"video_info\":{\"aspect_ratio\":[16,9],\"duration_millis\":139999,\"variants\":[{\"bitrate\":320000,\"content_type\":\"video\\\\/mp4\",\"url\":\"https:\\\\/\\\\/video.twimg.com\\\\/ext_tw_video\\\\/953895802975371264\\\\/pu\\\\/vid\\\\/320x180\\\\/f6Jyce48PrM0OuTZ.mp4\"},{\"bitrate\":2176000,\"content_type\":\"video\\\\/mp4\",\"url\":\"https:\\\\/\\\\/video.twimg.com\\\\/ext_tw_video\\\\/953895802975371264\\\\/pu\\\\/vid\\\\/1280x720\\\\/vJXDxFGBRbCJrE1q.mp4\"},{\"content_type\":\"application\\\\/x-mpegURL\",\"url\":\"https:\\\\/\\\\/video.twimg.com\\\\/ext_tw_video\\\\/953895802975371264\\\\/pu\\\\/pl\\\\/Xk5lURzIidIJKlfC.m3u8\"},{\"bitrate\":832000,\"content_type\":\"video\\\\/mp4\",\"url\":\"https:\\\\/\\\\/video.twimg.com\\\\/ext_tw_video\\\\/953895802975371264\\\\/pu\\\\/vid\\\\/640x360\\\\/wNkz59pE-gB5MzQ-.mp4\"}]}},{\"id\":952460343967588352,\"id_str\":\"952460343967588352\",\"indices\":[226,249],\"media_url\":\"http:\\\\/\\\\/pbs.twimg.com\\\\/ext_tw_video_thumb\\\\/952460343967588352\\\\/pu\\\\/img\\\\/02QIqnjcWQneQ9zx.jpg\",\"media_url_https\":\"https:\\\\/\\\\/pbs.twimg.com\\\\/ext_tw_video_thumb\\\\/952460343967588352\\\\/pu\\\\/img\\\\/02QIqnjcWQneQ9zx.jpg\",\"url\":\"https:\\\\/\\\\/t.co\\\\/E4ddlLk9c0\",\"display_url\":\"pic.twitter.com\\\\/E4ddlLk9c0\",\"expanded_url\":\"https:\\\\/\\\\/twitter.com\\\\/manisha__gupta\\\\/status\\\\/952462384706170880\\\\/video\\\\/1\",\"type\":\"video\",\"sizes\":{\"thumb\":{\"w\":150,\"h\":150,\"resize\":\"crop\"},\"medium\":{\"w\":1200,\"h\":675,\"resize\":\"fit\"},\"small\":{\"w\":680,\"h\":383,\"resize\":\"fit\"},\"large\":{\"w\":1280,\"h\":720,\"resize\":\"fit\"}},\"source_status_id\":952462384706170880,\"source_status_id_str\":\"952462384706170880\",\"source_user_id\":345823826,\"source_user_id_str\":\"345823826\",\"video_info\":{\"aspect_ratio\":[16,9],\"duration_millis\":139999,\"variants\":[{\"bitrate\":320000,\"content_type\":\"video\\\\/mp4\",\"url\":\"https:\\\\/\\\\/video.twimg.com\\\\/ext_tw_video\\\\/952460343967588352\\\\/pu\\\\/vid\\\\/320x180\\\\/zHpitGj_7su61hfa.mp4\"},{\"bitrate\":2176000,\"content_type\":\"video\\\\/mp4\",\"url\":\"https:\\\\/\\\\/video.twimg.com\\\\/ext_tw_video\\\\/952460343967588352\\\\/pu\\\\/vid\\\\/1280x720\\\\/_9lBbiSYw5IhA8Aj.mp4\"},{\"content_type\":\"application\\\\/x-mpegURL\",\"url\":\"https:\\\\/\\\\/video.twimg.com\\\\/ext_tw_video\\\\/952460343967588352\\\\/pu\\\\/pl\\\\/pfvo2vGSK8L2b5Nb.m3u8\"},{\"bitrate\":832000,\"content_type\":\"video\\\\/mp4\",\"url\":\"https:\\\\/\\\\/video.twimg.com\\\\/ext_tw_video\\\\/952460343967588352\\\\/pu\\\\/vid\\\\/640x360\\\\/axFZCKGzvRi_kITh.mp4\"}]}},{\"id\":953513742372777984,\"id_str\":\"953513742372777984\",\"indices\":[250,273],\"media_url\":\"http:\\\\/\\\\/pbs.twimg.com\\\\/ext_tw_video_thumb\\\\/953513742372777984\\\\/pu\\\\/img\\\\/npY9KGRdIBG4VD8R.jpg\",\"media_url_https\":\"https:\\\\/\\\\/pbs.twimg.com\\\\/ext_tw_video_thumb\\\\/953513742372777984\\\\/pu\\\\/img\\\\/npY9KGRdIBG4VD8R.jpg\",\"url\":\"https:\\\\/\\\\/t.co\\\\/DEEwNsDZmA\",\"display_url\":\"pic.twitter.com\\\\/DEEwNsDZmA\",\"expanded_url\":\"https:\\\\/\\\\/twitter.com\\\\/manisha__gupta\\\\/status\\\\/953516076469383168\\\\/video\\\\/1\",\"type\":\"video\",\"sizes\":{\"thumb\":{\"w\":150,\"h\":150,\"resize\":\"crop\"},\"medium\":{\"w\":1200,\"h\":675,\"resize\":\"fit\"},\"small\":{\"w\":680,\"h\":383,\"resize\":\"fit\"},\"large\":{\"w\":1280,\"h\":720,\"resize\":\"fit\"}},\"source_status_id\":953516076469383168,\"source_status_id_str\":\"953516076469383168\",\"source_user_id\":345823826,\"source_user_id_str\":\"345823826\",\"video_info\":{\"aspect_ratio\":[16,9],\"duration_millis\":139999,\"variants\":[{\"bitrate\":832000,\"content_type\":\"video\\\\/mp4\",\"url\":\"https:\\\\/\\\\/video.twimg.com\\\\/ext_tw_video\\\\/953513742372777984\\\\/pu\\\\/vid\\\\/640x360\\\\/XFDNjjzornkHir3d.mp4\"},{\"bitrate\":2176000,\"content_type\":\"video\\\\/mp4\",\"url\":\"https:\\\\/\\\\/video.twimg.com\\\\/ext_tw_video\\\\/953513742372777984\\\\/pu\\\\/vid\\\\/1280x720\\\\/LZB58ZWDfEtCoD0M.mp4\"},{\"bitrate\":320000,\"content_type\":\"video\\\\/mp4\",\"url\":\"https:\\\\/\\\\/video.twimg.com\\\\/ext_tw_video\\\\/953513742372777984\\\\/pu\\\\/vid\\\\/320x180\\\\/ZuqZ7w3AYTcG4RNT.mp4\"},{\"content_type\":\"application\\\\/x-mpegURL\",\"url\":\"https:\\\\/\\\\/video.twimg.com\\\\/ext_tw_video\\\\/953513742372777984\\\\/pu\\\\/pl\\\\/Ygx3_3v0PU6a3ReG.m3u8\"}]}}]}},\"quote_count\":3,\"reply_count\":39,\"retweet_count\":156,\"favorite_count\":271,\"entities\":{\"hashtags\":[{\"text\":\"Luvina\",\"indices\":[7,14]},{\"text\":\"VideoStory\",\"indices\":[15,26]},{\"text\":\"JaaneKyun\",\"indices\":[47,57]},{\"text\":\"Luvina\",\"indices\":[58,65]},{\"text\":\"HinaKhan\",\"indices\":[70,79]},{\"text\":\"LuvTyagi\",\"indices\":[80,89]},{\"text\":\"friendship_goals\",\"indices\":[90,107]}],\"urls\":[{\"url\":\"https:\\\\/\\\\/t.co\\\\/bHDuQxtgza\",\"expanded_url\":\"https:\\\\/\\\\/twitter.com\\\\/i\\\\/web\\\\/status\\\\/953897919974789120\",\"display_url\":\"twitter.com\\\\/i\\\\/web\\\\/status\\\\/9\\\\u2026\",\"indices\":[117,140]}],\"user_mentions\":[{\"screen_name\":\"manisha__gupta\",\"name\":\"Manisha ~ Hinaholic \\\\u2728\",\"id\":345823826,\"id_str\":\"345823826\",\"indices\":[30,45]}],\"symbols\":[]},\"favorited\":false,\"retweeted\":false,\"possibly_sensitive\":false,\"filter_level\":\"low\",\"lang\":\"en\"},\"is_quote_status\":false,\"quote_count\":0,\"reply_count\":0,\"retweet_count\":0,\"favorite_count\":0,\"entities\":{\"hashtags\":[{\"text\":\"Luvina\",\"indices\":[27,34]},{\"text\":\"VideoStory\",\"indices\":[35,46]},{\"text\":\"JaaneKyun\",\"indices\":[67,77]},{\"text\":\"Luvina\",\"indices\":[78,85]},{\"text\":\"HinaKhan\",\"indices\":[90,99]},{\"text\":\"LuvTyagi\",\"indices\":[100,109]},{\"text\":\"friendship_goals\",\"indices\":[110,127]}],\"urls\":[],\"user_mentions\":[{\"screen_name\":\"manisha__gupta\",\"name\":\"Manisha ~ Hinaholic \\\\u2728\",\"id\":345823826,\"id_str\":\"345823826\",\"indices\":[3,18]},{\"screen_name\":\"manisha__gupta\",\"name\":\"Manisha ~ Hinaholic \\\\u2728\",\"id\":345823826,\"id_str\":\"345823826\",\"indices\":[50,65]}],\"symbols\":[]},\"favorited\":false,\"retweeted\":false,\"filter_level\":\"low\",\"lang\":\"en\",\"timestamp_ms\":\"1516613508493\"}\\r\\n',\n",
       "   'twitter_id': 955372415583858689},\n",
       "  '_type': 'tweet'}]"
      ]
     },
     "execution_count": 23,
     "metadata": {},
     "output_type": "execute_result"
    }
   ],
   "source": [
    "tweet_list[0:10]"
   ]
  },
  {
   "cell_type": "markdown",
   "metadata": {},
   "source": [
    "#### Lots of information but we only need the postdate and the tweet\n",
    "For this we use regular expressions, to find the start and end position of these items."
   ]
  },
  {
   "cell_type": "code",
   "execution_count": 24,
   "metadata": {},
   "outputs": [
    {
     "name": "stdout",
     "output_type": "stream",
     "text": [
      "The first 10 actual tweets stored in this new list are:\n",
      "\n",
      "['\"Cryptocurrency Exchange OKCoin To Launch In South Korea #ethereum #crypto #btc https:\\\\/\\\\/t.co\\\\/Fk9vMoMp1f\",', '\"RT @timothychou: Can an Algorithm Tell When Kids Are in Danger? https:\\\\/\\\\/t.co\\\\/ugTVCVfTF1 #DataScience #DataScientist #BigData #IoT #Internet\\\\u2026\",', '\"RT @simdaq: Let\\'s chat. Join us on Telegram and get instant updates on the project: https:\\\\/\\\\/t.co\\\\/N00L0FQfQU \\\\n#ico #trading #waves #bitcoin\\\\u2026\",', '\"RT @mas_oyama_coin: Masutatsu Oyama crypto currency, Mas Oyama coin (MAS) Start Pre-sale on 15th Feb. Please check official website! https:\\\\u2026\",', '\"U.S. Rating Agency to Issue Bitcoin and Cryptocurrency Grades Wednesday https:\\\\/\\\\/t.co\\\\/5N9nBLXs7r via @BTCTN\",', '\"RT @justinsuntron: Good summary. https:\\\\/\\\\/t.co\\\\/itB8SuDbr3\",', '\"RT @CNN: The 1% grabbed 82% of all wealth created in 2017 https:\\\\/\\\\/t.co\\\\/fEHnwRDWdX https:\\\\/\\\\/t.co\\\\/qfbPXaiiFA\",', '\"RT @calvinonline1: NO CRYPTO BANNING..The S.Korean government has announced that six major banks will be ready to provide services to crypt\\\\u2026\",', '\"RT @manisha__gupta: Part 3\\\\n#Luvina #VideoStory by @manisha__gupta\\\\n\\\\n#JaaneKyun #Luvina Ft.\\\\n#HinaKhan #LuvTyagi #friendship_goals\\\\n\\\\nNext parts\\\\u2026\",', '\"RT @manisha__gupta: Part 3\\\\n#Luvina #VideoStory by @manisha__gupta\\\\n\\\\n#JaaneKyun #Luvina Ft.\\\\n#HinaKhan #LuvTyagi #friendship_goals\\\\n\\\\nNext parts\\\\u2026\",']\n"
     ]
    }
   ],
   "source": [
    "# tweets is only the \"real\" tweet text\n",
    "import re\n",
    "tweets = []\n",
    "for t in range(0,len(tweet_list)):\n",
    "    tweet_all_info = tweet_list[t]['_source']['tweet']\n",
    "    tweet_start = re.search('\"text\"', tweet_all_info).start()\n",
    "    tweet_end = re.search('\"source\"', tweet_all_info).start()\n",
    "    tweet_text = tweet_all_info[tweet_start+7:tweet_end]\n",
    "    tweets.append(tweet_text)\n",
    "print('The first 10 actual tweets stored in this new list are:' + '\\n' + '\\n' + str(tweets[0:10]))"
   ]
  },
  {
   "cell_type": "code",
   "execution_count": 25,
   "metadata": {},
   "outputs": [
    {
     "data": {
      "text/plain": [
       "1000"
      ]
     },
     "execution_count": 25,
     "metadata": {},
     "output_type": "execute_result"
    }
   ],
   "source": [
    "len(tweets)"
   ]
  },
  {
   "cell_type": "markdown",
   "metadata": {},
   "source": [
    "#### So we've only loaded 1.000 tweets\n",
    "The issue is that a batch size bust less or equal to 10.000. Therefore we need a trick to load 10k tweets every iteration and start the new iteration at the latest index."
   ]
  },
  {
   "cell_type": "code",
   "execution_count": 43,
   "metadata": {},
   "outputs": [],
   "source": [
    "# Because batch size must be less or equal to 10.000 we extract the tweets as follows...\n",
    "doc = {\n",
    "    'size' : 10000,\n",
    "    'query': {\n",
    "        'match_all' : {}\n",
    "    }\n",
    "}\n",
    "tweet_data = es.search(index=\"twitter\", doc_type='tweet', body=doc, scroll='1m')"
   ]
  },
  {
   "cell_type": "markdown",
   "metadata": {},
   "source": [
    "#### Every iteration we store 10.000 tweets until a total number of 1 million."
   ]
  },
  {
   "cell_type": "code",
   "execution_count": 44,
   "metadata": {},
   "outputs": [],
   "source": [
    "iter = 0\n",
    "tweets = []\n",
    "times = []\n",
    "dates = []\n",
    "while iter < 100:\n",
    "\n",
    "    # store the scroll_id to start the next iteration\n",
    "    scroll = tweet_data['_scroll_id']\n",
    "\n",
    "    tweet_list = tweet_data['hits']['hits']\n",
    "    for t in range(0, len(tweet_list)):\n",
    "\n",
    "        # the tweet text...\n",
    "        tweet_all_info = tweet_list[t]['_source']['tweet']\n",
    "        tweet_start = re.search('\"text\"', tweet_all_info).start()\n",
    "        tweet_end = re.search('\"source\"', tweet_all_info).start()\n",
    "        tweet_text = tweet_all_info[tweet_start + 7:tweet_end]\n",
    "        tweets.append(tweet_text)\n",
    "\n",
    "        # the dates...\n",
    "        time = tweet_list[t]['_source']['postDate']\n",
    "        date = time[0:10]\n",
    "        times.append(time)\n",
    "        dates.append(date)\n",
    "\n",
    "    # update tweet_data, start at the stored scroll_id for the next 10k tweets.\n",
    "    tweet_data = es.scroll(scroll_id=scroll, scroll='1m')\n",
    "    iter = iter + 1"
   ]
  },
  {
   "cell_type": "markdown",
   "metadata": {},
   "source": [
    "#### Now we have them all"
   ]
  },
  {
   "cell_type": "code",
   "execution_count": 45,
   "metadata": {},
   "outputs": [
    {
     "data": {
      "text/plain": [
       "1000000"
      ]
     },
     "execution_count": 45,
     "metadata": {},
     "output_type": "execute_result"
    }
   ],
   "source": [
    "len(tweets)"
   ]
  },
  {
   "cell_type": "code",
   "execution_count": 47,
   "metadata": {},
   "outputs": [
    {
     "name": "stdout",
     "output_type": "stream",
     "text": [
      "['\"Cryptocurrency Exchange OKCoin To Launch In South Korea #ethereum #crypto #btc https:\\\\/\\\\/t.co\\\\/Fk9vMoMp1f\",', '\"RT @timothychou: Can an Algorithm Tell When Kids Are in Danger? https:\\\\/\\\\/t.co\\\\/ugTVCVfTF1 #DataScience #DataScientist #BigData #IoT #Internet\\\\u2026\",', '\"RT @simdaq: Let\\'s chat. Join us on Telegram and get instant updates on the project: https:\\\\/\\\\/t.co\\\\/N00L0FQfQU \\\\n#ico #trading #waves #bitcoin\\\\u2026\",', '\"RT @mas_oyama_coin: Masutatsu Oyama crypto currency, Mas Oyama coin (MAS) Start Pre-sale on 15th Feb. Please check official website! https:\\\\u2026\",', '\"U.S. Rating Agency to Issue Bitcoin and Cryptocurrency Grades Wednesday https:\\\\/\\\\/t.co\\\\/5N9nBLXs7r via @BTCTN\",']\n",
      "['2018-01-22T09:31:41.357Z', '2018-01-22T09:31:41.363Z', '2018-01-22T09:31:41.855Z', '2018-01-22T09:31:42.362Z', '2018-01-22T09:30:59.854Z']\n",
      "['2018-01-22', '2018-01-22', '2018-01-22', '2018-01-22', '2018-01-22']\n"
     ]
    }
   ],
   "source": [
    "print(tweets[0:5])\n",
    "print(times[0:5])\n",
    "print(dates[0:5])"
   ]
  },
  {
   "cell_type": "markdown",
   "metadata": {},
   "source": [
    "#### Store in a dataframe and save it"
   ]
  },
  {
   "cell_type": "code",
   "execution_count": 49,
   "metadata": {},
   "outputs": [],
   "source": [
    "import pandas as pd\n",
    "twitter_data = pd.DataFrame({'timestamp': times,\n",
    "                             'dates': dates,\n",
    "                             'tweet': tweets})\n",
    "twitter_data.to_pickle(\"twitter_data\")"
   ]
  },
  {
   "cell_type": "markdown",
   "metadata": {},
   "source": [
    "#### Load the earlier save dataframe"
   ]
  },
  {
   "cell_type": "code",
   "execution_count": 50,
   "metadata": {},
   "outputs": [],
   "source": [
    "df = pd.read_pickle(\"twitter_data\")"
   ]
  },
  {
   "cell_type": "code",
   "execution_count": 51,
   "metadata": {},
   "outputs": [
    {
     "data": {
      "text/html": [
       "<div>\n",
       "<style>\n",
       "    .dataframe thead tr:only-child th {\n",
       "        text-align: right;\n",
       "    }\n",
       "\n",
       "    .dataframe thead th {\n",
       "        text-align: left;\n",
       "    }\n",
       "\n",
       "    .dataframe tbody tr th {\n",
       "        vertical-align: top;\n",
       "    }\n",
       "</style>\n",
       "<table border=\"1\" class=\"dataframe\">\n",
       "  <thead>\n",
       "    <tr style=\"text-align: right;\">\n",
       "      <th></th>\n",
       "      <th>dates</th>\n",
       "      <th>timestamp</th>\n",
       "      <th>tweet</th>\n",
       "    </tr>\n",
       "  </thead>\n",
       "  <tbody>\n",
       "    <tr>\n",
       "      <th>0</th>\n",
       "      <td>2018-01-22</td>\n",
       "      <td>2018-01-22T09:31:41.357Z</td>\n",
       "      <td>\"Cryptocurrency Exchange OKCoin To Launch In S...</td>\n",
       "    </tr>\n",
       "    <tr>\n",
       "      <th>1</th>\n",
       "      <td>2018-01-22</td>\n",
       "      <td>2018-01-22T09:31:41.363Z</td>\n",
       "      <td>\"RT @timothychou: Can an Algorithm Tell When K...</td>\n",
       "    </tr>\n",
       "    <tr>\n",
       "      <th>2</th>\n",
       "      <td>2018-01-22</td>\n",
       "      <td>2018-01-22T09:31:41.855Z</td>\n",
       "      <td>\"RT @simdaq: Let's chat. Join us on Telegram a...</td>\n",
       "    </tr>\n",
       "    <tr>\n",
       "      <th>3</th>\n",
       "      <td>2018-01-22</td>\n",
       "      <td>2018-01-22T09:31:42.362Z</td>\n",
       "      <td>\"RT @mas_oyama_coin: Masutatsu Oyama crypto cu...</td>\n",
       "    </tr>\n",
       "    <tr>\n",
       "      <th>4</th>\n",
       "      <td>2018-01-22</td>\n",
       "      <td>2018-01-22T09:30:59.854Z</td>\n",
       "      <td>\"U.S. Rating Agency to Issue Bitcoin and Crypt...</td>\n",
       "    </tr>\n",
       "  </tbody>\n",
       "</table>\n",
       "</div>"
      ],
      "text/plain": [
       "        dates                 timestamp  \\\n",
       "0  2018-01-22  2018-01-22T09:31:41.357Z   \n",
       "1  2018-01-22  2018-01-22T09:31:41.363Z   \n",
       "2  2018-01-22  2018-01-22T09:31:41.855Z   \n",
       "3  2018-01-22  2018-01-22T09:31:42.362Z   \n",
       "4  2018-01-22  2018-01-22T09:30:59.854Z   \n",
       "\n",
       "                                               tweet  \n",
       "0  \"Cryptocurrency Exchange OKCoin To Launch In S...  \n",
       "1  \"RT @timothychou: Can an Algorithm Tell When K...  \n",
       "2  \"RT @simdaq: Let's chat. Join us on Telegram a...  \n",
       "3  \"RT @mas_oyama_coin: Masutatsu Oyama crypto cu...  \n",
       "4  \"U.S. Rating Agency to Issue Bitcoin and Crypt...  "
      ]
     },
     "execution_count": 51,
     "metadata": {},
     "output_type": "execute_result"
    }
   ],
   "source": [
    "df.head()"
   ]
  },
  {
   "cell_type": "markdown",
   "metadata": {},
   "source": [
    "#### Cleaning the data"
   ]
  },
  {
   "cell_type": "code",
   "execution_count": 53,
   "metadata": {},
   "outputs": [],
   "source": [
    "# clean up the text: remove special characters and convert to lower characters\n",
    "import re\n",
    "remove_chrs = re.compile(\"[^A-Za-z0-9 ]+\")\n",
    "\n",
    "def clean_up_text(tweet):\n",
    "    tweet = tweet.lower().replace(\"<br />\", \" \")\n",
    "    return re.sub(remove_chrs, \"\", tweet.lower())"
   ]
  },
  {
   "cell_type": "code",
   "execution_count": 54,
   "metadata": {},
   "outputs": [],
   "source": [
    "tweets_cleaned = []\n",
    "for tweet in df['tweet']:\n",
    "    cleaned_tweet = clean_up_text(tweet)\n",
    "    tweets_cleaned.append(cleaned_tweet)"
   ]
  },
  {
   "cell_type": "markdown",
   "metadata": {},
   "source": [
    "#### Get the indices of the tweets from the Word List"
   ]
  },
  {
   "cell_type": "code",
   "execution_count": 55,
   "metadata": {},
   "outputs": [],
   "source": [
    "# import libraries\n",
    "import pandas as pd\n",
    "import numpy as np"
   ]
  },
  {
   "cell_type": "code",
   "execution_count": 56,
   "metadata": {},
   "outputs": [],
   "source": [
    "# load words and vectors\n",
    "words = np.load('words.npy')\n",
    "words = words.tolist()"
   ]
  },
  {
   "cell_type": "markdown",
   "metadata": {},
   "source": [
    "#### Split them to lists\n",
    "This must be done to find the word indices and vectors"
   ]
  },
  {
   "cell_type": "code",
   "execution_count": 65,
   "metadata": {},
   "outputs": [],
   "source": [
    "tweets_split_cleaned = []\n",
    "for tweet_cleaned in tweets_cleaned:\n",
    "    tweet_splitted = tweet_cleaned.split()\n",
    "    tweets_split_cleaned.append(tweet_splitted)"
   ]
  },
  {
   "cell_type": "code",
   "execution_count": 66,
   "metadata": {},
   "outputs": [],
   "source": [
    "lengths=[]\n",
    "for t in tweets_split_cleaned:\n",
    "    length = len(t)\n",
    "    lengths.append(length)"
   ]
  },
  {
   "cell_type": "code",
   "execution_count": 68,
   "metadata": {},
   "outputs": [
    {
     "data": {
      "text/plain": [
       "42"
      ]
     },
     "execution_count": 68,
     "metadata": {},
     "output_type": "execute_result"
    }
   ],
   "source": [
    "max(lengths)"
   ]
  },
  {
   "cell_type": "code",
   "execution_count": 69,
   "metadata": {},
   "outputs": [],
   "source": [
    "def turn_sentence_to_indices(sentence):\n",
    "    indices = np.zeros(75, dtype='int32')\n",
    "    for i in range(0,len(sentence)):\n",
    "        try:\n",
    "            indices[i] = words.index(sentence[i])\n",
    "        except:\n",
    "            indices[i] = 0\n",
    "    return(indices)"
   ]
  },
  {
   "cell_type": "code",
   "execution_count": 70,
   "metadata": {},
   "outputs": [],
   "source": [
    "tweet_indices = []\n",
    "for tweet in tweets_split_cleaned:\n",
    "    tweet_word_indices = turn_sentence_to_indices(tweet)\n",
    "    tweet_indices.append(tweet_word_indices)"
   ]
  },
  {
   "cell_type": "code",
   "execution_count": 71,
   "metadata": {},
   "outputs": [
    {
     "name": "stdout",
     "output_type": "stream",
     "text": [
      "1000000\n",
      "[array([    0,   644,     0,     5,  1784,     7,   140,   575,     0,\n",
      "       72245, 60145,     0,     0,     0,     0,     0,     0,     0,\n",
      "           0,     0,     0,     0,     0,     0,     0,     0,     0,\n",
      "           0,     0,     0,     0,     0,     0,     0,     0,     0,\n",
      "           0,     0,     0,     0,     0,     0,     0,     0,     0,\n",
      "           0,     0,     0,     0,     0,     0,     0,     0,     0,\n",
      "           0,     0,     0,     0,     0,     0,     0,     0,     0,\n",
      "           0,     0,     0,     0,     0,     0,     0,     0,     0,\n",
      "           0,     0,     0], dtype=int32), array([ 33223,      0,     87,     30,  12598,   1362,     62,   1814,\n",
      "           33,      7,   3053,      0,      0,      0,      0, 202255,\n",
      "            0,      0,      0,      0,      0,      0,      0,      0,\n",
      "            0,      0,      0,      0,      0,      0,      0,      0,\n",
      "            0,      0,      0,      0,      0,      0,      0,      0,\n",
      "            0,      0,      0,      0,      0,      0,      0,      0,\n",
      "            0,      0,      0,      0,      0,      0,      0,      0,\n",
      "            0,      0,      0,      0,      0,      0,      0,      0,\n",
      "            0,      0,      0,      0,      0,      0,      0,      0,\n",
      "            0,      0,      0], dtype=int32), array([33223,     0,  8236,  8732,  1430,    96,    14,  7387,     6,\n",
      "         170,  6930,  2889,    14,     1,   717,     0, 23381,   858,\n",
      "        4978,     0,     0,     0,     0,     0,     0,     0,     0,\n",
      "           0,     0,     0,     0,     0,     0,     0,     0,     0,\n",
      "           0,     0,     0,     0,     0,     0,     0,     0,     0,\n",
      "           0,     0,     0,     0,     0,     0,     0,     0,     0,\n",
      "           0,     0,     0,     0,     0,     0,     0,     0,     0,\n",
      "           0,     0,     0,     0,     0,     0,     0,     0,     0,\n",
      "           0,     0,     0], dtype=int32), array([ 33223,      0,      0,  85695,  72245,   1573,  12666,  85695,\n",
      "         9570,  12666,    466, 113173,     14,   5000,  14645,   3833,\n",
      "         2376,    240,   2558,      0,      0,      0,      0,      0,\n",
      "            0,      0,      0,      0,      0,      0,      0,      0,\n",
      "            0,      0,      0,      0,      0,      0,      0,      0,\n",
      "            0,      0,      0,      0,      0,      0,      0,      0,\n",
      "            0,      0,      0,      0,      0,      0,      0,      0,\n",
      "            0,      0,      0,      0,      0,      0,      0,      0,\n",
      "            0,      0,      0,      0,      0,      0,      0,      0,\n",
      "            0,      0,      0], dtype=int32), array([    96,   3226,    430,      5,    496, 113658,      6,      0,\n",
      "         7050,    178,      0,   1958,      0,      0,      0,      0,\n",
      "            0,      0,      0,      0,      0,      0,      0,      0,\n",
      "            0,      0,      0,      0,      0,      0,      0,      0,\n",
      "            0,      0,      0,      0,      0,      0,      0,      0,\n",
      "            0,      0,      0,      0,      0,      0,      0,      0,\n",
      "            0,      0,      0,      0,      0,      0,      0,      0,\n",
      "            0,      0,      0,      0,      0,      0,      0,      0,\n",
      "            0,      0,      0,      0,      0,      0,      0,      0,\n",
      "            0,      0,      0], dtype=int32)]\n"
     ]
    }
   ],
   "source": [
    "print(len(tweet_indices))\n",
    "print(tweet_indices[0:5])"
   ]
  },
  {
   "cell_type": "code",
   "execution_count": 72,
   "metadata": {},
   "outputs": [],
   "source": [
    "tweet_indices = np.asarray(tweet_indices)"
   ]
  },
  {
   "cell_type": "code",
   "execution_count": 73,
   "metadata": {},
   "outputs": [],
   "source": [
    "# save the indices\n",
    "np.save(\"tweet_indices\", tweet_indices)"
   ]
  }
 ],
 "metadata": {
  "kernelspec": {
   "display_name": "Python 3",
   "language": "python",
   "name": "python3"
  },
  "language_info": {
   "codemirror_mode": {
    "name": "ipython",
    "version": 3
   },
   "file_extension": ".py",
   "mimetype": "text/x-python",
   "name": "python",
   "nbconvert_exporter": "python",
   "pygments_lexer": "ipython3",
   "version": "3.5.4"
  }
 },
 "nbformat": 4,
 "nbformat_minor": 2
}
